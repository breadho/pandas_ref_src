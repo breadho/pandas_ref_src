{
 "cells": [
  {
   "cell_type": "markdown",
   "metadata": {},
   "source": [
    "# Chapter 1: Pandas Foundations"
   ]
  },
  {
   "cell_type": "code",
   "execution_count": 1,
   "metadata": {
    "lines_to_next_cell": 2
   },
   "outputs": [],
   "source": [
    "import pandas as pd\n",
    "import numpy as np"
   ]
  },
  {
   "cell_type": "markdown",
   "metadata": {},
   "source": [
    "## Introduction"
   ]
  },
  {
   "cell_type": "markdown",
   "metadata": {},
   "source": [
    "## Dissecting the anatomy of a DataFrame"
   ]
  },
  {
   "cell_type": "code",
   "execution_count": 2,
   "metadata": {
    "lines_to_next_cell": 2
   },
   "outputs": [
    {
     "data": {
      "text/html": [
       "<details>\n",
       "<summary>Click to view session information</summary>\n",
       "<pre>\n",
       "-----\n",
       "numpy               1.19.2\n",
       "pandas              1.1.3\n",
       "session_info        1.0.0\n",
       "-----\n",
       "</pre>\n",
       "<details>\n",
       "<summary>Click to view modules imported as dependencies</summary>\n",
       "<pre>\n",
       "backcall            0.2.0\n",
       "bottleneck          1.3.2\n",
       "colorama            0.4.4\n",
       "cython_runtime      NA\n",
       "dateutil            2.8.1\n",
       "decorator           4.4.2\n",
       "ipykernel           5.3.4\n",
       "ipython_genutils    0.2.0\n",
       "jedi                0.17.1\n",
       "mkl                 2.3.0\n",
       "mpl_toolkits        NA\n",
       "nt                  NA\n",
       "ntsecuritycon       NA\n",
       "parso               0.7.0\n",
       "pickleshare         0.7.5\n",
       "prompt_toolkit      3.0.8\n",
       "pygments            2.7.2\n",
       "pytz                2020.1\n",
       "six                 1.15.0\n",
       "sphinxcontrib       NA\n",
       "storemagic          NA\n",
       "tornado             6.0.4\n",
       "traitlets           5.0.5\n",
       "wcwidth             0.2.5\n",
       "win32api            NA\n",
       "win32security       NA\n",
       "zmq                 19.0.2\n",
       "zope                NA\n",
       "</pre>\n",
       "</details> <!-- seems like this ends pre, so might as well be explicit -->\n",
       "<pre>\n",
       "-----\n",
       "IPython             7.19.0\n",
       "jupyter_client      6.1.7\n",
       "jupyter_core        4.6.3\n",
       "jupyterlab          2.2.6\n",
       "notebook            6.1.4\n",
       "-----\n",
       "Python 3.8.5 (default, Sep  3 2020, 21:29:08) [MSC v.1916 64 bit (AMD64)]\n",
       "Windows-10-10.0.19041-SP0\n",
       "-----\n",
       "Session information updated at 2021-08-15 16:32\n",
       "</pre>\n",
       "</details>"
      ],
      "text/plain": [
       "<IPython.core.display.HTML object>"
      ]
     },
     "execution_count": 2,
     "metadata": {},
     "output_type": "execute_result"
    }
   ],
   "source": [
    "pd.set_option('max_columns', 4, 'max_rows', 10)\n",
    "\n",
    "import session_info\n",
    "session_info.show()"
   ]
  },
  {
   "cell_type": "code",
   "execution_count": 3,
   "metadata": {
    "lines_to_next_cell": 2
   },
   "outputs": [
    {
     "data": {
      "text/html": [
       "<div>\n",
       "<style scoped>\n",
       "    .dataframe tbody tr th:only-of-type {\n",
       "        vertical-align: middle;\n",
       "    }\n",
       "\n",
       "    .dataframe tbody tr th {\n",
       "        vertical-align: top;\n",
       "    }\n",
       "\n",
       "    .dataframe thead th {\n",
       "        text-align: right;\n",
       "    }\n",
       "</style>\n",
       "<table border=\"1\" class=\"dataframe\">\n",
       "  <thead>\n",
       "    <tr style=\"text-align: right;\">\n",
       "      <th></th>\n",
       "      <th>color</th>\n",
       "      <th>director_name</th>\n",
       "      <th>...</th>\n",
       "      <th>aspect_ratio</th>\n",
       "      <th>movie_facebook_likes</th>\n",
       "    </tr>\n",
       "  </thead>\n",
       "  <tbody>\n",
       "    <tr>\n",
       "      <th>0</th>\n",
       "      <td>Color</td>\n",
       "      <td>James Cameron</td>\n",
       "      <td>...</td>\n",
       "      <td>1.78</td>\n",
       "      <td>33000</td>\n",
       "    </tr>\n",
       "    <tr>\n",
       "      <th>1</th>\n",
       "      <td>Color</td>\n",
       "      <td>Gore Verbinski</td>\n",
       "      <td>...</td>\n",
       "      <td>2.35</td>\n",
       "      <td>0</td>\n",
       "    </tr>\n",
       "    <tr>\n",
       "      <th>2</th>\n",
       "      <td>Color</td>\n",
       "      <td>Sam Mendes</td>\n",
       "      <td>...</td>\n",
       "      <td>2.35</td>\n",
       "      <td>85000</td>\n",
       "    </tr>\n",
       "    <tr>\n",
       "      <th>3</th>\n",
       "      <td>Color</td>\n",
       "      <td>Christopher Nolan</td>\n",
       "      <td>...</td>\n",
       "      <td>2.35</td>\n",
       "      <td>164000</td>\n",
       "    </tr>\n",
       "    <tr>\n",
       "      <th>4</th>\n",
       "      <td>NaN</td>\n",
       "      <td>Doug Walker</td>\n",
       "      <td>...</td>\n",
       "      <td>NaN</td>\n",
       "      <td>0</td>\n",
       "    </tr>\n",
       "  </tbody>\n",
       "</table>\n",
       "<p>5 rows × 28 columns</p>\n",
       "</div>"
      ],
      "text/plain": [
       "   color      director_name  ...  aspect_ratio  movie_facebook_likes\n",
       "0  Color      James Cameron  ...          1.78                 33000\n",
       "1  Color     Gore Verbinski  ...          2.35                     0\n",
       "2  Color         Sam Mendes  ...          2.35                 85000\n",
       "3  Color  Christopher Nolan  ...          2.35                164000\n",
       "4    NaN        Doug Walker  ...           NaN                     0\n",
       "\n",
       "[5 rows x 28 columns]"
      ]
     },
     "execution_count": 3,
     "metadata": {},
     "output_type": "execute_result"
    }
   ],
   "source": [
    "movies = pd.read_csv('data/movie.csv')\n",
    "movies.head()"
   ]
  },
  {
   "cell_type": "markdown",
   "metadata": {},
   "source": [
    "### How it works..."
   ]
  },
  {
   "cell_type": "markdown",
   "metadata": {},
   "source": [
    "## DataFrame Attributes"
   ]
  },
  {
   "cell_type": "markdown",
   "metadata": {},
   "source": [
    "### How to do it... {#how-to-do-it-1}"
   ]
  },
  {
   "cell_type": "code",
   "execution_count": 4,
   "metadata": {
    "lines_to_next_cell": 2
   },
   "outputs": [],
   "source": [
    "movies = pd.read_csv('data/movie.csv')\n",
    "columns = movies.columns\n",
    "index = movies.index\n",
    "data = movies.values"
   ]
  },
  {
   "cell_type": "code",
   "execution_count": 5,
   "metadata": {
    "lines_to_next_cell": 2
   },
   "outputs": [
    {
     "data": {
      "text/plain": [
       "Index(['color', 'director_name', 'num_critic_for_reviews', 'duration',\n",
       "       'director_facebook_likes', 'actor_3_facebook_likes', 'actor_2_name',\n",
       "       'actor_1_facebook_likes', 'gross', 'genres', 'actor_1_name',\n",
       "       'movie_title', 'num_voted_users', 'cast_total_facebook_likes',\n",
       "       'actor_3_name', 'facenumber_in_poster', 'plot_keywords',\n",
       "       'movie_imdb_link', 'num_user_for_reviews', 'language', 'country',\n",
       "       'content_rating', 'budget', 'title_year', 'actor_2_facebook_likes',\n",
       "       'imdb_score', 'aspect_ratio', 'movie_facebook_likes'],\n",
       "      dtype='object')"
      ]
     },
     "execution_count": 5,
     "metadata": {},
     "output_type": "execute_result"
    }
   ],
   "source": [
    "columns"
   ]
  },
  {
   "cell_type": "code",
   "execution_count": 6,
   "metadata": {
    "lines_to_next_cell": 2
   },
   "outputs": [
    {
     "data": {
      "text/plain": [
       "RangeIndex(start=0, stop=4916, step=1)"
      ]
     },
     "execution_count": 6,
     "metadata": {},
     "output_type": "execute_result"
    }
   ],
   "source": [
    "index"
   ]
  },
  {
   "cell_type": "code",
   "execution_count": 7,
   "metadata": {
    "lines_to_next_cell": 2
   },
   "outputs": [
    {
     "data": {
      "text/plain": [
       "array([['Color', 'James Cameron', 723.0, ..., 7.9, 1.78, 33000],\n",
       "       ['Color', 'Gore Verbinski', 302.0, ..., 7.1, 2.35, 0],\n",
       "       ['Color', 'Sam Mendes', 602.0, ..., 6.8, 2.35, 85000],\n",
       "       ...,\n",
       "       ['Color', 'Benjamin Roberds', 13.0, ..., 6.3, nan, 16],\n",
       "       ['Color', 'Daniel Hsia', 14.0, ..., 6.3, 2.35, 660],\n",
       "       ['Color', 'Jon Gunn', 43.0, ..., 6.6, 1.85, 456]], dtype=object)"
      ]
     },
     "execution_count": 7,
     "metadata": {},
     "output_type": "execute_result"
    }
   ],
   "source": [
    "data"
   ]
  },
  {
   "cell_type": "code",
   "execution_count": 8,
   "metadata": {
    "lines_to_next_cell": 2
   },
   "outputs": [
    {
     "data": {
      "text/plain": [
       "pandas.core.indexes.range.RangeIndex"
      ]
     },
     "execution_count": 8,
     "metadata": {},
     "output_type": "execute_result"
    }
   ],
   "source": [
    "type(index)"
   ]
  },
  {
   "cell_type": "code",
   "execution_count": 9,
   "metadata": {
    "lines_to_next_cell": 2
   },
   "outputs": [
    {
     "data": {
      "text/plain": [
       "pandas.core.indexes.base.Index"
      ]
     },
     "execution_count": 9,
     "metadata": {},
     "output_type": "execute_result"
    }
   ],
   "source": [
    "type(columns)"
   ]
  },
  {
   "cell_type": "code",
   "execution_count": 10,
   "metadata": {
    "lines_to_next_cell": 2
   },
   "outputs": [
    {
     "data": {
      "text/plain": [
       "numpy.ndarray"
      ]
     },
     "execution_count": 10,
     "metadata": {},
     "output_type": "execute_result"
    }
   ],
   "source": [
    "type(data)"
   ]
  },
  {
   "cell_type": "code",
   "execution_count": 11,
   "metadata": {
    "lines_to_next_cell": 2
   },
   "outputs": [
    {
     "data": {
      "text/plain": [
       "True"
      ]
     },
     "execution_count": 11,
     "metadata": {},
     "output_type": "execute_result"
    }
   ],
   "source": [
    "issubclass(pd.RangeIndex, pd.Index)"
   ]
  },
  {
   "cell_type": "markdown",
   "metadata": {},
   "source": [
    "### How it works..."
   ]
  },
  {
   "cell_type": "markdown",
   "metadata": {},
   "source": [
    "### There's more"
   ]
  },
  {
   "cell_type": "code",
   "execution_count": 12,
   "metadata": {
    "lines_to_next_cell": 2
   },
   "outputs": [
    {
     "data": {
      "text/plain": [
       "array([   0,    1,    2, ..., 4913, 4914, 4915], dtype=int64)"
      ]
     },
     "execution_count": 12,
     "metadata": {},
     "output_type": "execute_result"
    }
   ],
   "source": [
    "index.values"
   ]
  },
  {
   "cell_type": "code",
   "execution_count": 13,
   "metadata": {
    "lines_to_next_cell": 2
   },
   "outputs": [
    {
     "data": {
      "text/plain": [
       "array(['color', 'director_name', 'num_critic_for_reviews', 'duration',\n",
       "       'director_facebook_likes', 'actor_3_facebook_likes',\n",
       "       'actor_2_name', 'actor_1_facebook_likes', 'gross', 'genres',\n",
       "       'actor_1_name', 'movie_title', 'num_voted_users',\n",
       "       'cast_total_facebook_likes', 'actor_3_name',\n",
       "       'facenumber_in_poster', 'plot_keywords', 'movie_imdb_link',\n",
       "       'num_user_for_reviews', 'language', 'country', 'content_rating',\n",
       "       'budget', 'title_year', 'actor_2_facebook_likes', 'imdb_score',\n",
       "       'aspect_ratio', 'movie_facebook_likes'], dtype=object)"
      ]
     },
     "execution_count": 13,
     "metadata": {},
     "output_type": "execute_result"
    }
   ],
   "source": [
    "columns.values"
   ]
  },
  {
   "cell_type": "markdown",
   "metadata": {},
   "source": [
    "## Understanding data types"
   ]
  },
  {
   "cell_type": "markdown",
   "metadata": {},
   "source": [
    "### How to do it... {#how-to-do-it-2}"
   ]
  },
  {
   "cell_type": "code",
   "execution_count": 14,
   "metadata": {
    "lines_to_next_cell": 2
   },
   "outputs": [],
   "source": [
    "movies = pd.read_csv('data/movie.csv')"
   ]
  },
  {
   "cell_type": "code",
   "execution_count": 15,
   "metadata": {
    "lines_to_next_cell": 2
   },
   "outputs": [
    {
     "data": {
      "text/plain": [
       "color                       object\n",
       "director_name               object\n",
       "num_critic_for_reviews     float64\n",
       "duration                   float64\n",
       "director_facebook_likes    float64\n",
       "                            ...   \n",
       "title_year                 float64\n",
       "actor_2_facebook_likes     float64\n",
       "imdb_score                 float64\n",
       "aspect_ratio               float64\n",
       "movie_facebook_likes         int64\n",
       "Length: 28, dtype: object"
      ]
     },
     "execution_count": 15,
     "metadata": {},
     "output_type": "execute_result"
    }
   ],
   "source": [
    "movies.dtypes"
   ]
  },
  {
   "cell_type": "code",
   "execution_count": 16,
   "metadata": {
    "lines_to_next_cell": 2
   },
   "outputs": [
    {
     "data": {
      "text/plain": [
       "float64    13\n",
       "object     12\n",
       "int64       3\n",
       "dtype: int64"
      ]
     },
     "execution_count": 16,
     "metadata": {},
     "output_type": "execute_result"
    }
   ],
   "source": [
    "movies.dtypes.value_counts()"
   ]
  },
  {
   "cell_type": "code",
   "execution_count": 17,
   "metadata": {
    "lines_to_next_cell": 2
   },
   "outputs": [
    {
     "name": "stdout",
     "output_type": "stream",
     "text": [
      "<class 'pandas.core.frame.DataFrame'>\n",
      "RangeIndex: 4916 entries, 0 to 4915\n",
      "Data columns (total 28 columns):\n",
      " #   Column                     Non-Null Count  Dtype  \n",
      "---  ------                     --------------  -----  \n",
      " 0   color                      4897 non-null   object \n",
      " 1   director_name              4814 non-null   object \n",
      " 2   num_critic_for_reviews     4867 non-null   float64\n",
      " 3   duration                   4901 non-null   float64\n",
      " 4   director_facebook_likes    4814 non-null   float64\n",
      " 5   actor_3_facebook_likes     4893 non-null   float64\n",
      " 6   actor_2_name               4903 non-null   object \n",
      " 7   actor_1_facebook_likes     4909 non-null   float64\n",
      " 8   gross                      4054 non-null   float64\n",
      " 9   genres                     4916 non-null   object \n",
      " 10  actor_1_name               4909 non-null   object \n",
      " 11  movie_title                4916 non-null   object \n",
      " 12  num_voted_users            4916 non-null   int64  \n",
      " 13  cast_total_facebook_likes  4916 non-null   int64  \n",
      " 14  actor_3_name               4893 non-null   object \n",
      " 15  facenumber_in_poster       4903 non-null   float64\n",
      " 16  plot_keywords              4764 non-null   object \n",
      " 17  movie_imdb_link            4916 non-null   object \n",
      " 18  num_user_for_reviews       4895 non-null   float64\n",
      " 19  language                   4904 non-null   object \n",
      " 20  country                    4911 non-null   object \n",
      " 21  content_rating             4616 non-null   object \n",
      " 22  budget                     4432 non-null   float64\n",
      " 23  title_year                 4810 non-null   float64\n",
      " 24  actor_2_facebook_likes     4903 non-null   float64\n",
      " 25  imdb_score                 4916 non-null   float64\n",
      " 26  aspect_ratio               4590 non-null   float64\n",
      " 27  movie_facebook_likes       4916 non-null   int64  \n",
      "dtypes: float64(13), int64(3), object(12)\n",
      "memory usage: 1.1+ MB\n"
     ]
    }
   ],
   "source": [
    "movies.info()"
   ]
  },
  {
   "cell_type": "markdown",
   "metadata": {},
   "source": [
    "### How it works..."
   ]
  },
  {
   "cell_type": "code",
   "execution_count": 18,
   "metadata": {
    "lines_to_next_cell": 2
   },
   "outputs": [
    {
     "data": {
      "text/plain": [
       "dtype('O')"
      ]
     },
     "execution_count": 18,
     "metadata": {},
     "output_type": "execute_result"
    }
   ],
   "source": [
    "pd.Series(['Paul', np.nan, 'George']).dtype"
   ]
  },
  {
   "cell_type": "markdown",
   "metadata": {},
   "source": [
    "### There's more..."
   ]
  },
  {
   "cell_type": "markdown",
   "metadata": {},
   "source": [
    "### See also"
   ]
  },
  {
   "cell_type": "markdown",
   "metadata": {},
   "source": [
    "## Selecting a Column"
   ]
  },
  {
   "cell_type": "markdown",
   "metadata": {},
   "source": [
    "### How to do it... {#how-to-do-it-3}"
   ]
  },
  {
   "cell_type": "code",
   "execution_count": 21,
   "metadata": {
    "lines_to_next_cell": 2
   },
   "outputs": [
    {
     "data": {
      "text/plain": [
       "0           James Cameron\n",
       "1          Gore Verbinski\n",
       "2              Sam Mendes\n",
       "3       Christopher Nolan\n",
       "4             Doug Walker\n",
       "              ...        \n",
       "4911          Scott Smith\n",
       "4912                  NaN\n",
       "4913     Benjamin Roberds\n",
       "4914          Daniel Hsia\n",
       "4915             Jon Gunn\n",
       "Name: director_name, Length: 4916, dtype: object"
      ]
     },
     "execution_count": 21,
     "metadata": {},
     "output_type": "execute_result"
    }
   ],
   "source": [
    "movies = pd.read_csv('data/movie.csv')\n",
    "movies['director_name']"
   ]
  },
  {
   "cell_type": "code",
   "execution_count": 22,
   "metadata": {
    "lines_to_next_cell": 2
   },
   "outputs": [
    {
     "data": {
      "text/plain": [
       "0           James Cameron\n",
       "1          Gore Verbinski\n",
       "2              Sam Mendes\n",
       "3       Christopher Nolan\n",
       "4             Doug Walker\n",
       "              ...        \n",
       "4911          Scott Smith\n",
       "4912                  NaN\n",
       "4913     Benjamin Roberds\n",
       "4914          Daniel Hsia\n",
       "4915             Jon Gunn\n",
       "Name: director_name, Length: 4916, dtype: object"
      ]
     },
     "execution_count": 22,
     "metadata": {},
     "output_type": "execute_result"
    }
   ],
   "source": [
    "movies.director_name"
   ]
  },
  {
   "cell_type": "code",
   "execution_count": 23,
   "metadata": {
    "lines_to_next_cell": 2
   },
   "outputs": [
    {
     "data": {
      "text/plain": [
       "0           James Cameron\n",
       "1          Gore Verbinski\n",
       "2              Sam Mendes\n",
       "3       Christopher Nolan\n",
       "4             Doug Walker\n",
       "              ...        \n",
       "4911          Scott Smith\n",
       "4912                  NaN\n",
       "4913     Benjamin Roberds\n",
       "4914          Daniel Hsia\n",
       "4915             Jon Gunn\n",
       "Name: director_name, Length: 4916, dtype: object"
      ]
     },
     "execution_count": 23,
     "metadata": {},
     "output_type": "execute_result"
    }
   ],
   "source": [
    "movies.loc[:, 'director_name']"
   ]
  },
  {
   "cell_type": "code",
   "execution_count": 25,
   "metadata": {
    "lines_to_next_cell": 2
   },
   "outputs": [
    {
     "data": {
      "text/plain": [
       "0           James Cameron\n",
       "1          Gore Verbinski\n",
       "2              Sam Mendes\n",
       "3       Christopher Nolan\n",
       "4             Doug Walker\n",
       "              ...        \n",
       "4911          Scott Smith\n",
       "4912                  NaN\n",
       "4913     Benjamin Roberds\n",
       "4914          Daniel Hsia\n",
       "4915             Jon Gunn\n",
       "Name: director_name, Length: 4916, dtype: object"
      ]
     },
     "execution_count": 25,
     "metadata": {},
     "output_type": "execute_result"
    }
   ],
   "source": [
    "movies.iloc[:, 1]"
   ]
  },
  {
   "cell_type": "code",
   "execution_count": 26,
   "metadata": {
    "lines_to_next_cell": 2
   },
   "outputs": [
    {
     "data": {
      "text/plain": [
       "RangeIndex(start=0, stop=4916, step=1)"
      ]
     },
     "execution_count": 26,
     "metadata": {},
     "output_type": "execute_result"
    }
   ],
   "source": [
    "movies['director_name'].index"
   ]
  },
  {
   "cell_type": "code",
   "execution_count": 35,
   "metadata": {},
   "outputs": [],
   "source": [
    "mdf = movies.copy()"
   ]
  },
  {
   "cell_type": "code",
   "execution_count": 36,
   "metadata": {},
   "outputs": [
    {
     "data": {
      "text/plain": [
       "RangeIndex(start=0, stop=4916, step=1)"
      ]
     },
     "execution_count": 36,
     "metadata": {},
     "output_type": "execute_result"
    }
   ],
   "source": [
    "mdf.index"
   ]
  },
  {
   "cell_type": "code",
   "execution_count": 27,
   "metadata": {
    "lines_to_next_cell": 2
   },
   "outputs": [
    {
     "data": {
      "text/plain": [
       "dtype('O')"
      ]
     },
     "execution_count": 27,
     "metadata": {},
     "output_type": "execute_result"
    }
   ],
   "source": [
    "movies['director_name'].dtype"
   ]
  },
  {
   "cell_type": "code",
   "execution_count": 38,
   "metadata": {},
   "outputs": [
    {
     "data": {
      "text/plain": [
       "color                       object\n",
       "director_name               object\n",
       "num_critic_for_reviews     float64\n",
       "duration                   float64\n",
       "director_facebook_likes    float64\n",
       "                            ...   \n",
       "title_year                 float64\n",
       "actor_2_facebook_likes     float64\n",
       "imdb_score                 float64\n",
       "aspect_ratio               float64\n",
       "movie_facebook_likes         int64\n",
       "Length: 28, dtype: object"
      ]
     },
     "execution_count": 38,
     "metadata": {},
     "output_type": "execute_result"
    }
   ],
   "source": [
    "mdf.dtypes"
   ]
  },
  {
   "cell_type": "code",
   "execution_count": 28,
   "metadata": {
    "lines_to_next_cell": 2
   },
   "outputs": [
    {
     "data": {
      "text/plain": [
       "4916"
      ]
     },
     "execution_count": 28,
     "metadata": {},
     "output_type": "execute_result"
    }
   ],
   "source": [
    "movies['director_name'].size"
   ]
  },
  {
   "cell_type": "code",
   "execution_count": 39,
   "metadata": {},
   "outputs": [
    {
     "data": {
      "text/plain": [
       "137648"
      ]
     },
     "execution_count": 39,
     "metadata": {},
     "output_type": "execute_result"
    }
   ],
   "source": [
    "mdf.size"
   ]
  },
  {
   "cell_type": "code",
   "execution_count": 48,
   "metadata": {},
   "outputs": [
    {
     "data": {
      "text/plain": [
       "2"
      ]
     },
     "execution_count": 48,
     "metadata": {},
     "output_type": "execute_result"
    }
   ],
   "source": [
    "mdf.ndim"
   ]
  },
  {
   "cell_type": "code",
   "execution_count": 50,
   "metadata": {},
   "outputs": [
    {
     "data": {
      "text/plain": [
       "(4916,)"
      ]
     },
     "execution_count": 50,
     "metadata": {},
     "output_type": "execute_result"
    }
   ],
   "source": [
    "movies['director_name'].shape"
   ]
  },
  {
   "cell_type": "code",
   "execution_count": 51,
   "metadata": {},
   "outputs": [
    {
     "data": {
      "text/plain": [
       "(4916, 28)"
      ]
     },
     "execution_count": 51,
     "metadata": {},
     "output_type": "execute_result"
    }
   ],
   "source": [
    "mdf.shape"
   ]
  },
  {
   "cell_type": "code",
   "execution_count": 52,
   "metadata": {
    "lines_to_next_cell": 2
   },
   "outputs": [
    {
     "data": {
      "text/plain": [
       "'director_name'"
      ]
     },
     "execution_count": 52,
     "metadata": {},
     "output_type": "execute_result"
    }
   ],
   "source": [
    "movies['director_name'].name"
   ]
  },
  {
   "cell_type": "code",
   "execution_count": 54,
   "metadata": {},
   "outputs": [
    {
     "ename": "AttributeError",
     "evalue": "'DataFrame' object has no attribute 'name'",
     "output_type": "error",
     "traceback": [
      "\u001b[1;31m---------------------------------------------------------------------------\u001b[0m",
      "\u001b[1;31mAttributeError\u001b[0m                            Traceback (most recent call last)",
      "\u001b[1;32m<ipython-input-54-4b2fb452db93>\u001b[0m in \u001b[0;36m<module>\u001b[1;34m\u001b[0m\n\u001b[1;32m----> 1\u001b[1;33m \u001b[0mmdf\u001b[0m\u001b[1;33m.\u001b[0m\u001b[0mname\u001b[0m\u001b[1;33m\u001b[0m\u001b[1;33m\u001b[0m\u001b[0m\n\u001b[0m",
      "\u001b[1;32m~\\anaconda3\\lib\\site-packages\\pandas\\core\\generic.py\u001b[0m in \u001b[0;36m__getattr__\u001b[1;34m(self, name)\u001b[0m\n\u001b[0;32m   5137\u001b[0m             \u001b[1;32mif\u001b[0m \u001b[0mself\u001b[0m\u001b[1;33m.\u001b[0m\u001b[0m_info_axis\u001b[0m\u001b[1;33m.\u001b[0m\u001b[0m_can_hold_identifiers_and_holds_name\u001b[0m\u001b[1;33m(\u001b[0m\u001b[0mname\u001b[0m\u001b[1;33m)\u001b[0m\u001b[1;33m:\u001b[0m\u001b[1;33m\u001b[0m\u001b[1;33m\u001b[0m\u001b[0m\n\u001b[0;32m   5138\u001b[0m                 \u001b[1;32mreturn\u001b[0m \u001b[0mself\u001b[0m\u001b[1;33m[\u001b[0m\u001b[0mname\u001b[0m\u001b[1;33m]\u001b[0m\u001b[1;33m\u001b[0m\u001b[1;33m\u001b[0m\u001b[0m\n\u001b[1;32m-> 5139\u001b[1;33m             \u001b[1;32mreturn\u001b[0m \u001b[0mobject\u001b[0m\u001b[1;33m.\u001b[0m\u001b[0m__getattribute__\u001b[0m\u001b[1;33m(\u001b[0m\u001b[0mself\u001b[0m\u001b[1;33m,\u001b[0m \u001b[0mname\u001b[0m\u001b[1;33m)\u001b[0m\u001b[1;33m\u001b[0m\u001b[1;33m\u001b[0m\u001b[0m\n\u001b[0m\u001b[0;32m   5140\u001b[0m \u001b[1;33m\u001b[0m\u001b[0m\n\u001b[0;32m   5141\u001b[0m     \u001b[1;32mdef\u001b[0m \u001b[0m__setattr__\u001b[0m\u001b[1;33m(\u001b[0m\u001b[0mself\u001b[0m\u001b[1;33m,\u001b[0m \u001b[0mname\u001b[0m\u001b[1;33m:\u001b[0m \u001b[0mstr\u001b[0m\u001b[1;33m,\u001b[0m \u001b[0mvalue\u001b[0m\u001b[1;33m)\u001b[0m \u001b[1;33m->\u001b[0m \u001b[1;32mNone\u001b[0m\u001b[1;33m:\u001b[0m\u001b[1;33m\u001b[0m\u001b[1;33m\u001b[0m\u001b[0m\n",
      "\u001b[1;31mAttributeError\u001b[0m: 'DataFrame' object has no attribute 'name'"
     ]
    }
   ],
   "source": [
    "mdf.name"
   ]
  },
  {
   "cell_type": "code",
   "execution_count": 45,
   "metadata": {},
   "outputs": [
    {
     "data": {
      "text/plain": [
       "RangeIndex(start=0, stop=4916, step=1)"
      ]
     },
     "execution_count": 45,
     "metadata": {},
     "output_type": "execute_result"
    }
   ],
   "source": [
    "mdf.index"
   ]
  },
  {
   "cell_type": "code",
   "execution_count": 30,
   "metadata": {
    "lines_to_next_cell": 2
   },
   "outputs": [
    {
     "data": {
      "text/plain": [
       "pandas.core.series.Series"
      ]
     },
     "execution_count": 30,
     "metadata": {},
     "output_type": "execute_result"
    }
   ],
   "source": [
    "type(movies['director_name'])"
   ]
  },
  {
   "cell_type": "code",
   "execution_count": 57,
   "metadata": {},
   "outputs": [
    {
     "data": {
      "text/plain": [
       "pandas.core.series.Series"
      ]
     },
     "execution_count": 57,
     "metadata": {},
     "output_type": "execute_result"
    }
   ],
   "source": [
    "type(movies['director_name'])"
   ]
  },
  {
   "cell_type": "code",
   "execution_count": 58,
   "metadata": {},
   "outputs": [
    {
     "data": {
      "text/plain": [
       "pandas.core.frame.DataFrame"
      ]
     },
     "execution_count": 58,
     "metadata": {},
     "output_type": "execute_result"
    }
   ],
   "source": [
    "type(mdf)"
   ]
  },
  {
   "cell_type": "code",
   "execution_count": 66,
   "metadata": {},
   "outputs": [
    {
     "data": {
      "text/plain": [
       "color                       object\n",
       "director_name               object\n",
       "num_critic_for_reviews     float64\n",
       "duration                   float64\n",
       "director_facebook_likes    float64\n",
       "                            ...   \n",
       "title_year                 float64\n",
       "actor_2_facebook_likes     float64\n",
       "imdb_score                 float64\n",
       "aspect_ratio               float64\n",
       "movie_facebook_likes         int64\n",
       "Length: 28, dtype: object"
      ]
     },
     "execution_count": 66,
     "metadata": {},
     "output_type": "execute_result"
    }
   ],
   "source": [
    "mdf.dtypes"
   ]
  },
  {
   "cell_type": "code",
   "execution_count": 59,
   "metadata": {
    "lines_to_next_cell": 2
   },
   "outputs": [
    {
     "data": {
      "text/plain": [
       "array([<class 'str'>, <class 'float'>], dtype=object)"
      ]
     },
     "execution_count": 59,
     "metadata": {},
     "output_type": "execute_result"
    }
   ],
   "source": [
    "movies['director_name'].apply(type)."
   ]
  },
  {
   "cell_type": "code",
   "execution_count": 65,
   "metadata": {},
   "outputs": [
    {
     "data": {
      "text/plain": [
       "<class 'str'>      4814\n",
       "<class 'float'>     102\n",
       "Name: director_name, dtype: int64"
      ]
     },
     "execution_count": 65,
     "metadata": {},
     "output_type": "execute_result"
    }
   ],
   "source": [
    "movies['director_name'].apply(type).value_counts()"
   ]
  },
  {
   "cell_type": "code",
   "execution_count": 67,
   "metadata": {},
   "outputs": [
    {
     "data": {
      "text/plain": [
       "0         <class 'str'>\n",
       "1         <class 'str'>\n",
       "2         <class 'str'>\n",
       "3         <class 'str'>\n",
       "4         <class 'str'>\n",
       "             ...       \n",
       "4911      <class 'str'>\n",
       "4912    <class 'float'>\n",
       "4913      <class 'str'>\n",
       "4914      <class 'str'>\n",
       "4915      <class 'str'>\n",
       "Name: director_name, Length: 4916, dtype: object"
      ]
     },
     "execution_count": 67,
     "metadata": {},
     "output_type": "execute_result"
    }
   ],
   "source": [
    "movies['director_name'].apply(type)"
   ]
  },
  {
   "cell_type": "code",
   "execution_count": null,
   "metadata": {},
   "outputs": [],
   "source": []
  },
  {
   "cell_type": "markdown",
   "metadata": {},
   "source": [
    "### How it works..."
   ]
  },
  {
   "cell_type": "markdown",
   "metadata": {},
   "source": [
    "### There's more"
   ]
  },
  {
   "cell_type": "markdown",
   "metadata": {},
   "source": [
    "### See also"
   ]
  },
  {
   "cell_type": "markdown",
   "metadata": {},
   "source": [
    "## Calling Series Methods"
   ]
  },
  {
   "cell_type": "code",
   "execution_count": 68,
   "metadata": {
    "lines_to_next_cell": 2
   },
   "outputs": [
    {
     "data": {
      "text/plain": [
       "423"
      ]
     },
     "execution_count": 68,
     "metadata": {},
     "output_type": "execute_result"
    }
   ],
   "source": [
    "s_attr_methods = set(dir(pd.Series))\n",
    "len(s_attr_methods)"
   ]
  },
  {
   "cell_type": "code",
   "execution_count": 69,
   "metadata": {
    "lines_to_next_cell": 2
   },
   "outputs": [
    {
     "data": {
      "text/plain": [
       "427"
      ]
     },
     "execution_count": 69,
     "metadata": {},
     "output_type": "execute_result"
    }
   ],
   "source": [
    "df_attr_methods = set(dir(pd.DataFrame))\n",
    "len(df_attr_methods)"
   ]
  },
  {
   "cell_type": "code",
   "execution_count": 70,
   "metadata": {
    "lines_to_next_cell": 2
   },
   "outputs": [
    {
     "data": {
      "text/plain": [
       "372"
      ]
     },
     "execution_count": 70,
     "metadata": {},
     "output_type": "execute_result"
    }
   ],
   "source": [
    "len(s_attr_methods & df_attr_methods)"
   ]
  },
  {
   "cell_type": "markdown",
   "metadata": {},
   "source": [
    "### How to do it... {#how-to-do-it-4}"
   ]
  },
  {
   "cell_type": "code",
   "execution_count": 71,
   "metadata": {
    "lines_to_next_cell": 2
   },
   "outputs": [],
   "source": [
    "movies = pd.read_csv('data/movie.csv')\n",
    "director = movies['director_name']\n",
    "fb_likes = movies['actor_1_facebook_likes']"
   ]
  },
  {
   "cell_type": "code",
   "execution_count": 72,
   "metadata": {
    "lines_to_next_cell": 2
   },
   "outputs": [
    {
     "data": {
      "text/plain": [
       "dtype('O')"
      ]
     },
     "execution_count": 72,
     "metadata": {},
     "output_type": "execute_result"
    }
   ],
   "source": [
    "director.dtype"
   ]
  },
  {
   "cell_type": "code",
   "execution_count": 73,
   "metadata": {
    "lines_to_next_cell": 2
   },
   "outputs": [
    {
     "data": {
      "text/plain": [
       "dtype('float64')"
      ]
     },
     "execution_count": 73,
     "metadata": {},
     "output_type": "execute_result"
    }
   ],
   "source": [
    "fb_likes.dtype"
   ]
  },
  {
   "cell_type": "code",
   "execution_count": 74,
   "metadata": {
    "lines_to_next_cell": 2
   },
   "outputs": [
    {
     "data": {
      "text/plain": [
       "0        James Cameron\n",
       "1       Gore Verbinski\n",
       "2           Sam Mendes\n",
       "3    Christopher Nolan\n",
       "4          Doug Walker\n",
       "Name: director_name, dtype: object"
      ]
     },
     "execution_count": 74,
     "metadata": {},
     "output_type": "execute_result"
    }
   ],
   "source": [
    "director.head()"
   ]
  },
  {
   "cell_type": "code",
   "execution_count": 76,
   "metadata": {},
   "outputs": [
    {
     "data": {
      "text/html": [
       "<div>\n",
       "<style scoped>\n",
       "    .dataframe tbody tr th:only-of-type {\n",
       "        vertical-align: middle;\n",
       "    }\n",
       "\n",
       "    .dataframe tbody tr th {\n",
       "        vertical-align: top;\n",
       "    }\n",
       "\n",
       "    .dataframe thead th {\n",
       "        text-align: right;\n",
       "    }\n",
       "</style>\n",
       "<table border=\"1\" class=\"dataframe\">\n",
       "  <thead>\n",
       "    <tr style=\"text-align: right;\">\n",
       "      <th></th>\n",
       "      <th>color</th>\n",
       "      <th>director_name</th>\n",
       "      <th>...</th>\n",
       "      <th>aspect_ratio</th>\n",
       "      <th>movie_facebook_likes</th>\n",
       "    </tr>\n",
       "  </thead>\n",
       "  <tbody>\n",
       "    <tr>\n",
       "      <th>0</th>\n",
       "      <td>Color</td>\n",
       "      <td>James Cameron</td>\n",
       "      <td>...</td>\n",
       "      <td>1.78</td>\n",
       "      <td>33000</td>\n",
       "    </tr>\n",
       "    <tr>\n",
       "      <th>1</th>\n",
       "      <td>Color</td>\n",
       "      <td>Gore Verbinski</td>\n",
       "      <td>...</td>\n",
       "      <td>2.35</td>\n",
       "      <td>0</td>\n",
       "    </tr>\n",
       "    <tr>\n",
       "      <th>2</th>\n",
       "      <td>Color</td>\n",
       "      <td>Sam Mendes</td>\n",
       "      <td>...</td>\n",
       "      <td>2.35</td>\n",
       "      <td>85000</td>\n",
       "    </tr>\n",
       "    <tr>\n",
       "      <th>3</th>\n",
       "      <td>Color</td>\n",
       "      <td>Christopher Nolan</td>\n",
       "      <td>...</td>\n",
       "      <td>2.35</td>\n",
       "      <td>164000</td>\n",
       "    </tr>\n",
       "    <tr>\n",
       "      <th>4</th>\n",
       "      <td>NaN</td>\n",
       "      <td>Doug Walker</td>\n",
       "      <td>...</td>\n",
       "      <td>NaN</td>\n",
       "      <td>0</td>\n",
       "    </tr>\n",
       "  </tbody>\n",
       "</table>\n",
       "<p>5 rows × 28 columns</p>\n",
       "</div>"
      ],
      "text/plain": [
       "   color      director_name  ...  aspect_ratio  movie_facebook_likes\n",
       "0  Color      James Cameron  ...          1.78                 33000\n",
       "1  Color     Gore Verbinski  ...          2.35                     0\n",
       "2  Color         Sam Mendes  ...          2.35                 85000\n",
       "3  Color  Christopher Nolan  ...          2.35                164000\n",
       "4    NaN        Doug Walker  ...           NaN                     0\n",
       "\n",
       "[5 rows x 28 columns]"
      ]
     },
     "execution_count": 76,
     "metadata": {},
     "output_type": "execute_result"
    }
   ],
   "source": [
    "mdf.head()"
   ]
  },
  {
   "cell_type": "code",
   "execution_count": 77,
   "metadata": {
    "lines_to_next_cell": 2
   },
   "outputs": [
    {
     "data": {
      "text/plain": [
       "2347      Brian Percival\n",
       "4687         Lucio Fulci\n",
       "691        Phillip Noyce\n",
       "3911       Sam Peckinpah\n",
       "2488    Rowdy Herrington\n",
       "Name: director_name, dtype: object"
      ]
     },
     "execution_count": 77,
     "metadata": {},
     "output_type": "execute_result"
    }
   ],
   "source": [
    "director.sample(n=5, random_state=42)"
   ]
  },
  {
   "cell_type": "code",
   "execution_count": 78,
   "metadata": {},
   "outputs": [
    {
     "data": {
      "text/html": [
       "<div>\n",
       "<style scoped>\n",
       "    .dataframe tbody tr th:only-of-type {\n",
       "        vertical-align: middle;\n",
       "    }\n",
       "\n",
       "    .dataframe tbody tr th {\n",
       "        vertical-align: top;\n",
       "    }\n",
       "\n",
       "    .dataframe thead th {\n",
       "        text-align: right;\n",
       "    }\n",
       "</style>\n",
       "<table border=\"1\" class=\"dataframe\">\n",
       "  <thead>\n",
       "    <tr style=\"text-align: right;\">\n",
       "      <th></th>\n",
       "      <th>color</th>\n",
       "      <th>director_name</th>\n",
       "      <th>...</th>\n",
       "      <th>aspect_ratio</th>\n",
       "      <th>movie_facebook_likes</th>\n",
       "    </tr>\n",
       "  </thead>\n",
       "  <tbody>\n",
       "    <tr>\n",
       "      <th>2347</th>\n",
       "      <td>Color</td>\n",
       "      <td>Brian Percival</td>\n",
       "      <td>...</td>\n",
       "      <td>2.35</td>\n",
       "      <td>53000</td>\n",
       "    </tr>\n",
       "    <tr>\n",
       "      <th>4687</th>\n",
       "      <td>Black and White</td>\n",
       "      <td>Lucio Fulci</td>\n",
       "      <td>...</td>\n",
       "      <td>2.35</td>\n",
       "      <td>2000</td>\n",
       "    </tr>\n",
       "    <tr>\n",
       "      <th>691</th>\n",
       "      <td>Color</td>\n",
       "      <td>Phillip Noyce</td>\n",
       "      <td>...</td>\n",
       "      <td>2.35</td>\n",
       "      <td>0</td>\n",
       "    </tr>\n",
       "    <tr>\n",
       "      <th>3911</th>\n",
       "      <td>Color</td>\n",
       "      <td>Sam Peckinpah</td>\n",
       "      <td>...</td>\n",
       "      <td>1.85</td>\n",
       "      <td>357</td>\n",
       "    </tr>\n",
       "    <tr>\n",
       "      <th>2488</th>\n",
       "      <td>Color</td>\n",
       "      <td>Rowdy Herrington</td>\n",
       "      <td>...</td>\n",
       "      <td>2.35</td>\n",
       "      <td>352</td>\n",
       "    </tr>\n",
       "  </tbody>\n",
       "</table>\n",
       "<p>5 rows × 28 columns</p>\n",
       "</div>"
      ],
      "text/plain": [
       "                color     director_name  ...  aspect_ratio  \\\n",
       "2347            Color    Brian Percival  ...          2.35   \n",
       "4687  Black and White       Lucio Fulci  ...          2.35   \n",
       "691             Color     Phillip Noyce  ...          2.35   \n",
       "3911            Color     Sam Peckinpah  ...          1.85   \n",
       "2488            Color  Rowdy Herrington  ...          2.35   \n",
       "\n",
       "      movie_facebook_likes  \n",
       "2347                 53000  \n",
       "4687                  2000  \n",
       "691                      0  \n",
       "3911                   357  \n",
       "2488                   352  \n",
       "\n",
       "[5 rows x 28 columns]"
      ]
     },
     "execution_count": 78,
     "metadata": {},
     "output_type": "execute_result"
    }
   ],
   "source": [
    "mdf.sample(n = 5, random_state = 42)"
   ]
  },
  {
   "cell_type": "code",
   "execution_count": 89,
   "metadata": {
    "lines_to_next_cell": 2
   },
   "outputs": [
    {
     "data": {
      "text/plain": [
       "0     1000.0\n",
       "1    40000.0\n",
       "2    11000.0\n",
       "3    27000.0\n",
       "4      131.0\n",
       "5      640.0\n",
       "6    24000.0\n",
       "7      799.0\n",
       "8    26000.0\n",
       "9    25000.0\n",
       "Name: actor_1_facebook_likes, dtype: float64"
      ]
     },
     "execution_count": 89,
     "metadata": {},
     "output_type": "execute_result"
    }
   ],
   "source": [
    "fb_likes.head(10)"
   ]
  },
  {
   "cell_type": "code",
   "execution_count": 80,
   "metadata": {
    "lines_to_next_cell": 2
   },
   "outputs": [
    {
     "data": {
      "text/plain": [
       "Steven Spielberg     26\n",
       "Woody Allen          22\n",
       "Martin Scorsese      20\n",
       "Clint Eastwood       20\n",
       "Spike Lee            16\n",
       "                     ..\n",
       "Steven Seagal         1\n",
       "Vincente Minnelli     1\n",
       "Nicholaus Goossen     1\n",
       "Mark Tarlov           1\n",
       "Fritz Lang            1\n",
       "Name: director_name, Length: 2397, dtype: int64"
      ]
     },
     "execution_count": 80,
     "metadata": {},
     "output_type": "execute_result"
    }
   ],
   "source": [
    "director.value_counts()"
   ]
  },
  {
   "cell_type": "code",
   "execution_count": 82,
   "metadata": {
    "lines_to_next_cell": 2
   },
   "outputs": [
    {
     "data": {
      "text/plain": [
       "1000.0     436\n",
       "11000.0    206\n",
       "2000.0     189\n",
       "3000.0     150\n",
       "12000.0    131\n",
       "          ... \n",
       "362.0        1\n",
       "216.0        1\n",
       "859.0        1\n",
       "225.0        1\n",
       "334.0        1\n",
       "Name: actor_1_facebook_likes, Length: 877, dtype: int64"
      ]
     },
     "execution_count": 82,
     "metadata": {},
     "output_type": "execute_result"
    }
   ],
   "source": [
    "fb_likes.value_counts()"
   ]
  },
  {
   "cell_type": "code",
   "execution_count": 83,
   "metadata": {
    "lines_to_next_cell": 2
   },
   "outputs": [
    {
     "data": {
      "text/plain": [
       "4916"
      ]
     },
     "execution_count": 83,
     "metadata": {},
     "output_type": "execute_result"
    }
   ],
   "source": [
    "director.size"
   ]
  },
  {
   "cell_type": "code",
   "execution_count": 84,
   "metadata": {
    "lines_to_next_cell": 2
   },
   "outputs": [
    {
     "data": {
      "text/plain": [
       "(4916,)"
      ]
     },
     "execution_count": 84,
     "metadata": {},
     "output_type": "execute_result"
    }
   ],
   "source": [
    "director.shape"
   ]
  },
  {
   "cell_type": "code",
   "execution_count": 85,
   "metadata": {
    "lines_to_next_cell": 2
   },
   "outputs": [
    {
     "data": {
      "text/plain": [
       "4916"
      ]
     },
     "execution_count": 85,
     "metadata": {},
     "output_type": "execute_result"
    }
   ],
   "source": [
    "len(director)"
   ]
  },
  {
   "cell_type": "code",
   "execution_count": 86,
   "metadata": {},
   "outputs": [
    {
     "data": {
      "text/plain": [
       "4916"
      ]
     },
     "execution_count": 86,
     "metadata": {},
     "output_type": "execute_result"
    }
   ],
   "source": [
    "len(mdf)"
   ]
  },
  {
   "cell_type": "code",
   "execution_count": 87,
   "metadata": {
    "lines_to_next_cell": 2
   },
   "outputs": [
    {
     "data": {
      "text/plain": [
       "array(['James Cameron', 'Gore Verbinski', 'Sam Mendes', ...,\n",
       "       'Scott Smith', 'Benjamin Roberds', 'Daniel Hsia'], dtype=object)"
      ]
     },
     "execution_count": 87,
     "metadata": {},
     "output_type": "execute_result"
    }
   ],
   "source": [
    "director.unique()"
   ]
  },
  {
   "cell_type": "code",
   "execution_count": 88,
   "metadata": {
    "lines_to_next_cell": 2
   },
   "outputs": [
    {
     "data": {
      "text/plain": [
       "4814"
      ]
     },
     "execution_count": 88,
     "metadata": {},
     "output_type": "execute_result"
    }
   ],
   "source": [
    "director.count()"
   ]
  },
  {
   "cell_type": "code",
   "execution_count": 90,
   "metadata": {},
   "outputs": [
    {
     "data": {
      "text/plain": [
       "color                      4897\n",
       "director_name              4814\n",
       "num_critic_for_reviews     4867\n",
       "duration                   4901\n",
       "director_facebook_likes    4814\n",
       "                           ... \n",
       "title_year                 4810\n",
       "actor_2_facebook_likes     4903\n",
       "imdb_score                 4916\n",
       "aspect_ratio               4590\n",
       "movie_facebook_likes       4916\n",
       "Length: 28, dtype: int64"
      ]
     },
     "execution_count": 90,
     "metadata": {},
     "output_type": "execute_result"
    }
   ],
   "source": [
    "mdf.count()"
   ]
  },
  {
   "cell_type": "code",
   "execution_count": 91,
   "metadata": {},
   "outputs": [
    {
     "data": {
      "text/plain": [
       "color                       19\n",
       "director_name              102\n",
       "num_critic_for_reviews      49\n",
       "duration                    15\n",
       "director_facebook_likes    102\n",
       "                          ... \n",
       "title_year                 106\n",
       "actor_2_facebook_likes      13\n",
       "imdb_score                   0\n",
       "aspect_ratio               326\n",
       "movie_facebook_likes         0\n",
       "Length: 28, dtype: int64"
      ]
     },
     "execution_count": 91,
     "metadata": {},
     "output_type": "execute_result"
    }
   ],
   "source": [
    "len(mdf) - mdf.count()"
   ]
  },
  {
   "cell_type": "code",
   "execution_count": 92,
   "metadata": {},
   "outputs": [
    {
     "data": {
      "text/plain": [
       "102"
      ]
     },
     "execution_count": 92,
     "metadata": {},
     "output_type": "execute_result"
    }
   ],
   "source": [
    "len(director) - director.count()"
   ]
  },
  {
   "cell_type": "code",
   "execution_count": 93,
   "metadata": {
    "lines_to_next_cell": 2
   },
   "outputs": [
    {
     "data": {
      "text/plain": [
       "4909"
      ]
     },
     "execution_count": 93,
     "metadata": {},
     "output_type": "execute_result"
    }
   ],
   "source": [
    "fb_likes.count()"
   ]
  },
  {
   "cell_type": "code",
   "execution_count": 94,
   "metadata": {
    "lines_to_next_cell": 2
   },
   "outputs": [
    {
     "data": {
      "text/plain": [
       "982.0"
      ]
     },
     "execution_count": 94,
     "metadata": {},
     "output_type": "execute_result"
    }
   ],
   "source": [
    "fb_likes.quantile()"
   ]
  },
  {
   "cell_type": "code",
   "execution_count": 95,
   "metadata": {
    "lines_to_next_cell": 2
   },
   "outputs": [
    {
     "data": {
      "text/plain": [
       "0.0"
      ]
     },
     "execution_count": 95,
     "metadata": {},
     "output_type": "execute_result"
    }
   ],
   "source": [
    "fb_likes.min()"
   ]
  },
  {
   "cell_type": "code",
   "execution_count": 96,
   "metadata": {
    "lines_to_next_cell": 2
   },
   "outputs": [
    {
     "data": {
      "text/plain": [
       "640000.0"
      ]
     },
     "execution_count": 96,
     "metadata": {},
     "output_type": "execute_result"
    }
   ],
   "source": [
    "fb_likes.max()"
   ]
  },
  {
   "cell_type": "code",
   "execution_count": 97,
   "metadata": {
    "lines_to_next_cell": 2
   },
   "outputs": [
    {
     "data": {
      "text/plain": [
       "6494.488490527602"
      ]
     },
     "execution_count": 97,
     "metadata": {},
     "output_type": "execute_result"
    }
   ],
   "source": [
    "fb_likes.mean()"
   ]
  },
  {
   "cell_type": "code",
   "execution_count": 98,
   "metadata": {
    "lines_to_next_cell": 2
   },
   "outputs": [
    {
     "data": {
      "text/plain": [
       "982.0"
      ]
     },
     "execution_count": 98,
     "metadata": {},
     "output_type": "execute_result"
    }
   ],
   "source": [
    "fb_likes.median()"
   ]
  },
  {
   "cell_type": "code",
   "execution_count": 99,
   "metadata": {
    "lines_to_next_cell": 2
   },
   "outputs": [
    {
     "data": {
      "text/plain": [
       "15106.986883848309"
      ]
     },
     "execution_count": 99,
     "metadata": {},
     "output_type": "execute_result"
    }
   ],
   "source": [
    "fb_likes.std()"
   ]
  },
  {
   "cell_type": "code",
   "execution_count": 100,
   "metadata": {
    "lines_to_next_cell": 2
   },
   "outputs": [
    {
     "data": {
      "text/plain": [
       "count      4909.000000\n",
       "mean       6494.488491\n",
       "std       15106.986884\n",
       "min           0.000000\n",
       "25%         607.000000\n",
       "50%         982.000000\n",
       "75%       11000.000000\n",
       "max      640000.000000\n",
       "Name: actor_1_facebook_likes, dtype: float64"
      ]
     },
     "execution_count": 100,
     "metadata": {},
     "output_type": "execute_result"
    }
   ],
   "source": [
    "fb_likes.describe()"
   ]
  },
  {
   "cell_type": "code",
   "execution_count": 101,
   "metadata": {
    "lines_to_next_cell": 2
   },
   "outputs": [
    {
     "data": {
      "text/plain": [
       "count                 4814\n",
       "unique                2397\n",
       "top       Steven Spielberg\n",
       "freq                    26\n",
       "Name: director_name, dtype: object"
      ]
     },
     "execution_count": 101,
     "metadata": {},
     "output_type": "execute_result"
    }
   ],
   "source": [
    "director.describe()"
   ]
  },
  {
   "cell_type": "code",
   "execution_count": 104,
   "metadata": {},
   "outputs": [
    {
     "data": {
      "text/plain": [
       "<AxesSubplot:>"
      ]
     },
     "execution_count": 104,
     "metadata": {},
     "output_type": "execute_result"
    },
    {
     "data": {
      "image/png": "[encoded data removed]",
      "text/plain": [
       "<Figure size 432x288 with 1 Axes>"
      ]
     },
     "metadata": {
      "needs_background": "light"
     },
     "output_type": "display_data"
    }
   ],
   "source": [
    "mdf.boxplot()"
   ]
  },
  {
   "cell_type": "code",
   "execution_count": 105,
   "metadata": {
    "lines_to_next_cell": 2
   },
   "outputs": [
    {
     "data": {
      "text/plain": [
       "510.0"
      ]
     },
     "execution_count": 105,
     "metadata": {},
     "output_type": "execute_result"
    }
   ],
   "source": [
    "fb_likes.quantile(.2)"
   ]
  },
  {
   "cell_type": "code",
   "execution_count": 106,
   "metadata": {
    "lines_to_next_cell": 2
   },
   "outputs": [
    {
     "data": {
      "text/plain": [
       "0.1      240.0\n",
       "0.2      510.0\n",
       "0.3      694.0\n",
       "0.4      854.0\n",
       "0.5      982.0\n",
       "0.6     1000.0\n",
       "0.7     8000.0\n",
       "0.8    13000.0\n",
       "0.9    18000.0\n",
       "Name: actor_1_facebook_likes, dtype: float64"
      ]
     },
     "execution_count": 106,
     "metadata": {},
     "output_type": "execute_result"
    }
   ],
   "source": [
    "fb_likes.quantile([.1, .2, .3, .4, .5, .6, .7, .8, .9])"
   ]
  },
  {
   "cell_type": "code",
   "execution_count": 115,
   "metadata": {},
   "outputs": [
    {
     "data": {
      "text/plain": [
       "0.0         0.0\n",
       "0.1       240.0\n",
       "0.2       510.0\n",
       "0.3       694.0\n",
       "0.4       854.0\n",
       "         ...   \n",
       "0.6      1000.0\n",
       "0.7      8000.0\n",
       "0.8     13000.0\n",
       "0.9     18000.0\n",
       "1.0    640000.0\n",
       "Name: actor_1_facebook_likes, Length: 11, dtype: float64"
      ]
     },
     "execution_count": 115,
     "metadata": {},
     "output_type": "execute_result"
    }
   ],
   "source": [
    "fb_likes.quantile(np.linspace(start=0, stop=1, num=11))"
   ]
  },
  {
   "cell_type": "code",
   "execution_count": 114,
   "metadata": {},
   "outputs": [
    {
     "data": {
      "text/plain": [
       "array([0. , 0.1, 0.2, 0.3, 0.4, 0.5, 0.6, 0.7, 0.8, 0.9, 1. ])"
      ]
     },
     "execution_count": 114,
     "metadata": {},
     "output_type": "execute_result"
    }
   ],
   "source": [
    "np.linspace(start=0, stop=1, num=11)"
   ]
  },
  {
   "cell_type": "code",
   "execution_count": 116,
   "metadata": {
    "lines_to_next_cell": 2
   },
   "outputs": [
    {
     "data": {
      "text/plain": [
       "0       False\n",
       "1       False\n",
       "2       False\n",
       "3       False\n",
       "4       False\n",
       "        ...  \n",
       "4911    False\n",
       "4912     True\n",
       "4913    False\n",
       "4914    False\n",
       "4915    False\n",
       "Name: director_name, Length: 4916, dtype: bool"
      ]
     },
     "execution_count": 116,
     "metadata": {},
     "output_type": "execute_result"
    }
   ],
   "source": [
    "director.isna()"
   ]
  },
  {
   "cell_type": "code",
   "execution_count": 117,
   "metadata": {},
   "outputs": [
    {
     "data": {
      "text/plain": [
       "False    4814\n",
       "True      102\n",
       "Name: director_name, dtype: int64"
      ]
     },
     "execution_count": 117,
     "metadata": {},
     "output_type": "execute_result"
    }
   ],
   "source": [
    "director.isna().value_counts()"
   ]
  },
  {
   "cell_type": "code",
   "execution_count": 119,
   "metadata": {},
   "outputs": [
    {
     "data": {
      "text/html": [
       "<div>\n",
       "<style scoped>\n",
       "    .dataframe tbody tr th:only-of-type {\n",
       "        vertical-align: middle;\n",
       "    }\n",
       "\n",
       "    .dataframe tbody tr th {\n",
       "        vertical-align: top;\n",
       "    }\n",
       "\n",
       "    .dataframe thead th {\n",
       "        text-align: right;\n",
       "    }\n",
       "</style>\n",
       "<table border=\"1\" class=\"dataframe\">\n",
       "  <thead>\n",
       "    <tr style=\"text-align: right;\">\n",
       "      <th></th>\n",
       "      <th>color</th>\n",
       "      <th>director_name</th>\n",
       "      <th>...</th>\n",
       "      <th>aspect_ratio</th>\n",
       "      <th>movie_facebook_likes</th>\n",
       "    </tr>\n",
       "  </thead>\n",
       "  <tbody>\n",
       "    <tr>\n",
       "      <th>0</th>\n",
       "      <td>False</td>\n",
       "      <td>False</td>\n",
       "      <td>...</td>\n",
       "      <td>False</td>\n",
       "      <td>False</td>\n",
       "    </tr>\n",
       "    <tr>\n",
       "      <th>1</th>\n",
       "      <td>False</td>\n",
       "      <td>False</td>\n",
       "      <td>...</td>\n",
       "      <td>False</td>\n",
       "      <td>False</td>\n",
       "    </tr>\n",
       "    <tr>\n",
       "      <th>2</th>\n",
       "      <td>False</td>\n",
       "      <td>False</td>\n",
       "      <td>...</td>\n",
       "      <td>False</td>\n",
       "      <td>False</td>\n",
       "    </tr>\n",
       "    <tr>\n",
       "      <th>3</th>\n",
       "      <td>False</td>\n",
       "      <td>False</td>\n",
       "      <td>...</td>\n",
       "      <td>False</td>\n",
       "      <td>False</td>\n",
       "    </tr>\n",
       "    <tr>\n",
       "      <th>4</th>\n",
       "      <td>True</td>\n",
       "      <td>False</td>\n",
       "      <td>...</td>\n",
       "      <td>True</td>\n",
       "      <td>False</td>\n",
       "    </tr>\n",
       "    <tr>\n",
       "      <th>...</th>\n",
       "      <td>...</td>\n",
       "      <td>...</td>\n",
       "      <td>...</td>\n",
       "      <td>...</td>\n",
       "      <td>...</td>\n",
       "    </tr>\n",
       "    <tr>\n",
       "      <th>4911</th>\n",
       "      <td>False</td>\n",
       "      <td>False</td>\n",
       "      <td>...</td>\n",
       "      <td>True</td>\n",
       "      <td>False</td>\n",
       "    </tr>\n",
       "    <tr>\n",
       "      <th>4912</th>\n",
       "      <td>False</td>\n",
       "      <td>True</td>\n",
       "      <td>...</td>\n",
       "      <td>False</td>\n",
       "      <td>False</td>\n",
       "    </tr>\n",
       "    <tr>\n",
       "      <th>4913</th>\n",
       "      <td>False</td>\n",
       "      <td>False</td>\n",
       "      <td>...</td>\n",
       "      <td>True</td>\n",
       "      <td>False</td>\n",
       "    </tr>\n",
       "    <tr>\n",
       "      <th>4914</th>\n",
       "      <td>False</td>\n",
       "      <td>False</td>\n",
       "      <td>...</td>\n",
       "      <td>False</td>\n",
       "      <td>False</td>\n",
       "    </tr>\n",
       "    <tr>\n",
       "      <th>4915</th>\n",
       "      <td>False</td>\n",
       "      <td>False</td>\n",
       "      <td>...</td>\n",
       "      <td>False</td>\n",
       "      <td>False</td>\n",
       "    </tr>\n",
       "  </tbody>\n",
       "</table>\n",
       "<p>4916 rows × 28 columns</p>\n",
       "</div>"
      ],
      "text/plain": [
       "      color  director_name  ...  aspect_ratio  movie_facebook_likes\n",
       "0     False          False  ...         False                 False\n",
       "1     False          False  ...         False                 False\n",
       "2     False          False  ...         False                 False\n",
       "3     False          False  ...         False                 False\n",
       "4      True          False  ...          True                 False\n",
       "...     ...            ...  ...           ...                   ...\n",
       "4911  False          False  ...          True                 False\n",
       "4912  False           True  ...         False                 False\n",
       "4913  False          False  ...          True                 False\n",
       "4914  False          False  ...         False                 False\n",
       "4915  False          False  ...         False                 False\n",
       "\n",
       "[4916 rows x 28 columns]"
      ]
     },
     "execution_count": 119,
     "metadata": {},
     "output_type": "execute_result"
    }
   ],
   "source": [
    "mdf.isna()"
   ]
  },
  {
   "cell_type": "code",
   "execution_count": 120,
   "metadata": {
    "lines_to_next_cell": 2
   },
   "outputs": [
    {
     "data": {
      "text/plain": [
       "4916"
      ]
     },
     "execution_count": 120,
     "metadata": {},
     "output_type": "execute_result"
    }
   ],
   "source": [
    "fb_likes_filled = fb_likes.fillna(0)\n",
    "fb_likes_filled.count()"
   ]
  },
  {
   "cell_type": "code",
   "execution_count": 121,
   "metadata": {
    "lines_to_next_cell": 2
   },
   "outputs": [
    {
     "data": {
      "text/plain": [
       "4909"
      ]
     },
     "execution_count": 121,
     "metadata": {},
     "output_type": "execute_result"
    }
   ],
   "source": [
    "fb_likes_dropped = fb_likes.dropna()\n",
    "fb_likes_dropped.size"
   ]
  },
  {
   "cell_type": "code",
   "execution_count": 129,
   "metadata": {},
   "outputs": [
    {
     "data": {
      "text/plain": [
       "array([1261,    0])"
      ]
     },
     "execution_count": 129,
     "metadata": {},
     "output_type": "execute_result"
    }
   ],
   "source": [
    "np.array(mdf.shape) - np.array(mdf.dropna().shape)"
   ]
  },
  {
   "cell_type": "code",
   "execution_count": 144,
   "metadata": {},
   "outputs": [
    {
     "data": {
      "text/html": [
       "<div>\n",
       "<style scoped>\n",
       "    .dataframe tbody tr th:only-of-type {\n",
       "        vertical-align: middle;\n",
       "    }\n",
       "\n",
       "    .dataframe tbody tr th {\n",
       "        vertical-align: top;\n",
       "    }\n",
       "\n",
       "    .dataframe thead th {\n",
       "        text-align: right;\n",
       "    }\n",
       "</style>\n",
       "<table border=\"1\" class=\"dataframe\">\n",
       "  <thead>\n",
       "    <tr style=\"text-align: right;\">\n",
       "      <th></th>\n",
       "      <th>num_critic_for_reviews</th>\n",
       "      <th>duration</th>\n",
       "      <th>...</th>\n",
       "      <th>aspect_ratio</th>\n",
       "      <th>movie_facebook_likes</th>\n",
       "    </tr>\n",
       "  </thead>\n",
       "  <tbody>\n",
       "    <tr>\n",
       "      <th>count</th>\n",
       "      <td>4867.0</td>\n",
       "      <td>4901.0</td>\n",
       "      <td>...</td>\n",
       "      <td>4590.0</td>\n",
       "      <td>4916.0</td>\n",
       "    </tr>\n",
       "  </tbody>\n",
       "</table>\n",
       "<p>1 rows × 16 columns</p>\n",
       "</div>"
      ],
      "text/plain": [
       "       num_critic_for_reviews  duration  ...  aspect_ratio  \\\n",
       "count                  4867.0    4901.0  ...        4590.0   \n",
       "\n",
       "       movie_facebook_likes  \n",
       "count                4916.0  \n",
       "\n",
       "[1 rows x 16 columns]"
      ]
     },
     "execution_count": 144,
     "metadata": {},
     "output_type": "execute_result"
    }
   ],
   "source": [
    "mdfdes = mdf.describe()\n",
    "mdfdes.iloc[0:1,:]"
   ]
  },
  {
   "cell_type": "code",
   "execution_count": 145,
   "metadata": {},
   "outputs": [
    {
     "data": {
      "text/plain": [
       "pandas.core.frame.DataFrame"
      ]
     },
     "execution_count": 145,
     "metadata": {},
     "output_type": "execute_result"
    }
   ],
   "source": [
    "type(mdfdes.iloc[0:1, :])"
   ]
  },
  {
   "cell_type": "code",
   "execution_count": 147,
   "metadata": {},
   "outputs": [
    {
     "data": {
      "text/html": [
       "<div>\n",
       "<style scoped>\n",
       "    .dataframe tbody tr th:only-of-type {\n",
       "        vertical-align: middle;\n",
       "    }\n",
       "\n",
       "    .dataframe tbody tr th {\n",
       "        vertical-align: top;\n",
       "    }\n",
       "\n",
       "    .dataframe thead th {\n",
       "        text-align: right;\n",
       "    }\n",
       "</style>\n",
       "<table border=\"1\" class=\"dataframe\">\n",
       "  <thead>\n",
       "    <tr style=\"text-align: right;\">\n",
       "      <th></th>\n",
       "      <th>count</th>\n",
       "    </tr>\n",
       "  </thead>\n",
       "  <tbody>\n",
       "    <tr>\n",
       "      <th>num_critic_for_reviews</th>\n",
       "      <td>4867.0</td>\n",
       "    </tr>\n",
       "    <tr>\n",
       "      <th>duration</th>\n",
       "      <td>4901.0</td>\n",
       "    </tr>\n",
       "    <tr>\n",
       "      <th>director_facebook_likes</th>\n",
       "      <td>4814.0</td>\n",
       "    </tr>\n",
       "    <tr>\n",
       "      <th>actor_3_facebook_likes</th>\n",
       "      <td>4893.0</td>\n",
       "    </tr>\n",
       "    <tr>\n",
       "      <th>actor_1_facebook_likes</th>\n",
       "      <td>4909.0</td>\n",
       "    </tr>\n",
       "    <tr>\n",
       "      <th>...</th>\n",
       "      <td>...</td>\n",
       "    </tr>\n",
       "    <tr>\n",
       "      <th>title_year</th>\n",
       "      <td>4810.0</td>\n",
       "    </tr>\n",
       "    <tr>\n",
       "      <th>actor_2_facebook_likes</th>\n",
       "      <td>4903.0</td>\n",
       "    </tr>\n",
       "    <tr>\n",
       "      <th>imdb_score</th>\n",
       "      <td>4916.0</td>\n",
       "    </tr>\n",
       "    <tr>\n",
       "      <th>aspect_ratio</th>\n",
       "      <td>4590.0</td>\n",
       "    </tr>\n",
       "    <tr>\n",
       "      <th>movie_facebook_likes</th>\n",
       "      <td>4916.0</td>\n",
       "    </tr>\n",
       "  </tbody>\n",
       "</table>\n",
       "<p>16 rows × 1 columns</p>\n",
       "</div>"
      ],
      "text/plain": [
       "                          count\n",
       "num_critic_for_reviews   4867.0\n",
       "duration                 4901.0\n",
       "director_facebook_likes  4814.0\n",
       "actor_3_facebook_likes   4893.0\n",
       "actor_1_facebook_likes   4909.0\n",
       "...                         ...\n",
       "title_year               4810.0\n",
       "actor_2_facebook_likes   4903.0\n",
       "imdb_score               4916.0\n",
       "aspect_ratio             4590.0\n",
       "movie_facebook_likes     4916.0\n",
       "\n",
       "[16 rows x 1 columns]"
      ]
     },
     "execution_count": 147,
     "metadata": {},
     "output_type": "execute_result"
    }
   ],
   "source": [
    "mdfdes.iloc[0:1, :].transpose()"
   ]
  },
  {
   "cell_type": "code",
   "execution_count": 151,
   "metadata": {},
   "outputs": [
    {
     "data": {
      "text/plain": [
       "pandas.core.frame.DataFrame"
      ]
     },
     "execution_count": 151,
     "metadata": {},
     "output_type": "execute_result"
    }
   ],
   "source": [
    "type(mdfdes.iloc[0:1, :].transpose())"
   ]
  },
  {
   "cell_type": "markdown",
   "metadata": {},
   "source": [
    "### How it works..."
   ]
  },
  {
   "cell_type": "markdown",
   "metadata": {},
   "source": [
    "### There's more..."
   ]
  },
  {
   "cell_type": "code",
   "execution_count": 154,
   "metadata": {
    "lines_to_next_cell": 2
   },
   "outputs": [
    {
     "data": {
      "text/plain": [
       "Steven Spielberg     0.005401\n",
       "Woody Allen          0.004570\n",
       "Martin Scorsese      0.004155\n",
       "Clint Eastwood       0.004155\n",
       "Spike Lee            0.003324\n",
       "                       ...   \n",
       "Steven Seagal        0.000208\n",
       "Vincente Minnelli    0.000208\n",
       "Nicholaus Goossen    0.000208\n",
       "Mark Tarlov          0.000208\n",
       "Fritz Lang           0.000208\n",
       "Name: director_name, Length: 2397, dtype: float64"
      ]
     },
     "execution_count": 154,
     "metadata": {},
     "output_type": "execute_result"
    }
   ],
   "source": [
    "director.value_counts(normalize=True)"
   ]
  },
  {
   "cell_type": "code",
   "execution_count": 155,
   "metadata": {
    "lines_to_next_cell": 2
   },
   "outputs": [
    {
     "data": {
      "text/plain": [
       "True"
      ]
     },
     "execution_count": 155,
     "metadata": {},
     "output_type": "execute_result"
    }
   ],
   "source": [
    "director.hasnans"
   ]
  },
  {
   "cell_type": "code",
   "execution_count": 156,
   "metadata": {
    "lines_to_next_cell": 2
   },
   "outputs": [
    {
     "data": {
      "text/plain": [
       "0        True\n",
       "1        True\n",
       "2        True\n",
       "3        True\n",
       "4        True\n",
       "        ...  \n",
       "4911     True\n",
       "4912    False\n",
       "4913     True\n",
       "4914     True\n",
       "4915     True\n",
       "Name: director_name, Length: 4916, dtype: bool"
      ]
     },
     "execution_count": 156,
     "metadata": {},
     "output_type": "execute_result"
    }
   ],
   "source": [
    "director.notna()"
   ]
  },
  {
   "cell_type": "code",
   "execution_count": 157,
   "metadata": {},
   "outputs": [
    {
     "data": {
      "text/plain": [
       "True     4814\n",
       "False     102\n",
       "Name: director_name, dtype: int64"
      ]
     },
     "execution_count": 157,
     "metadata": {},
     "output_type": "execute_result"
    }
   ],
   "source": [
    "director.notna().value_counts()`"
   ]
  },
  {
   "cell_type": "code",
   "execution_count": 158,
   "metadata": {},
   "outputs": [
    {
     "data": {
      "text/plain": [
       "0       False\n",
       "1       False\n",
       "2       False\n",
       "3       False\n",
       "4       False\n",
       "        ...  \n",
       "4911    False\n",
       "4912     True\n",
       "4913    False\n",
       "4914    False\n",
       "4915    False\n",
       "Name: director_name, Length: 4916, dtype: bool"
      ]
     },
     "execution_count": 158,
     "metadata": {},
     "output_type": "execute_result"
    }
   ],
   "source": [
    "director.isnull()"
   ]
  },
  {
   "cell_type": "code",
   "execution_count": 159,
   "metadata": {},
   "outputs": [
    {
     "data": {
      "text/plain": [
       "False    4814\n",
       "True      102\n",
       "Name: director_name, dtype: int64"
      ]
     },
     "execution_count": 159,
     "metadata": {},
     "output_type": "execute_result"
    }
   ],
   "source": [
    "director.isnull().value_counts()"
   ]
  },
  {
   "cell_type": "markdown",
   "metadata": {},
   "source": [
    "### See also"
   ]
  },
  {
   "cell_type": "markdown",
   "metadata": {},
   "source": [
    "## Series Operations"
   ]
  },
  {
   "cell_type": "code",
   "execution_count": null,
   "metadata": {
    "lines_to_next_cell": 2
   },
   "outputs": [],
   "source": [
    "5 + 9    # plus operator example. Adds 5 and 9"
   ]
  },
  {
   "cell_type": "markdown",
   "metadata": {},
   "source": [
    "### How to do it... {#how-to-do-it-5}"
   ]
  },
  {
   "cell_type": "code",
   "execution_count": 160,
   "metadata": {
    "lines_to_next_cell": 2
   },
   "outputs": [
    {
     "data": {
      "text/plain": [
       "0       7.9\n",
       "1       7.1\n",
       "2       6.8\n",
       "3       8.5\n",
       "4       7.1\n",
       "       ... \n",
       "4911    7.7\n",
       "4912    7.5\n",
       "4913    6.3\n",
       "4914    6.3\n",
       "4915    6.6\n",
       "Name: imdb_score, Length: 4916, dtype: float64"
      ]
     },
     "execution_count": 160,
     "metadata": {},
     "output_type": "execute_result"
    }
   ],
   "source": [
    "movies = pd.read_csv('data/movie.csv')\n",
    "imdb_score = movies['imdb_score']\n",
    "imdb_score"
   ]
  },
  {
   "cell_type": "code",
   "execution_count": null,
   "metadata": {
    "lines_to_next_cell": 2
   },
   "outputs": [],
   "source": [
    "imdb_score + 1"
   ]
  },
  {
   "cell_type": "code",
   "execution_count": 161,
   "metadata": {
    "lines_to_next_cell": 2
   },
   "outputs": [
    {
     "data": {
      "text/plain": [
       "0       19.75\n",
       "1       17.75\n",
       "2       17.00\n",
       "3       21.25\n",
       "4       17.75\n",
       "        ...  \n",
       "4911    19.25\n",
       "4912    18.75\n",
       "4913    15.75\n",
       "4914    15.75\n",
       "4915    16.50\n",
       "Name: imdb_score, Length: 4916, dtype: float64"
      ]
     },
     "execution_count": 161,
     "metadata": {},
     "output_type": "execute_result"
    }
   ],
   "source": [
    "imdb_score * 2.5"
   ]
  },
  {
   "cell_type": "code",
   "execution_count": 162,
   "metadata": {
    "lines_to_next_cell": 2
   },
   "outputs": [
    {
     "data": {
      "text/plain": [
       "0       1.0\n",
       "1       1.0\n",
       "2       0.0\n",
       "3       1.0\n",
       "4       1.0\n",
       "       ... \n",
       "4911    1.0\n",
       "4912    1.0\n",
       "4913    0.0\n",
       "4914    0.0\n",
       "4915    0.0\n",
       "Name: imdb_score, Length: 4916, dtype: float64"
      ]
     },
     "execution_count": 162,
     "metadata": {},
     "output_type": "execute_result"
    }
   ],
   "source": [
    "imdb_score // 7"
   ]
  },
  {
   "cell_type": "code",
   "execution_count": 163,
   "metadata": {
    "lines_to_next_cell": 2
   },
   "outputs": [
    {
     "data": {
      "text/plain": [
       "0        True\n",
       "1        True\n",
       "2       False\n",
       "3        True\n",
       "4        True\n",
       "        ...  \n",
       "4911     True\n",
       "4912     True\n",
       "4913    False\n",
       "4914    False\n",
       "4915    False\n",
       "Name: imdb_score, Length: 4916, dtype: bool"
      ]
     },
     "execution_count": 163,
     "metadata": {},
     "output_type": "execute_result"
    }
   ],
   "source": [
    "imdb_score > 7"
   ]
  },
  {
   "cell_type": "code",
   "execution_count": 164,
   "metadata": {
    "lines_to_next_cell": 2
   },
   "outputs": [
    {
     "data": {
      "text/plain": [
       "0        True\n",
       "1       False\n",
       "2       False\n",
       "3       False\n",
       "4       False\n",
       "        ...  \n",
       "4911    False\n",
       "4912    False\n",
       "4913    False\n",
       "4914    False\n",
       "4915    False\n",
       "Name: director_name, Length: 4916, dtype: bool"
      ]
     },
     "execution_count": 164,
     "metadata": {},
     "output_type": "execute_result"
    }
   ],
   "source": [
    "director = movies['director_name']\n",
    "director == 'James Cameron'"
   ]
  },
  {
   "cell_type": "markdown",
   "metadata": {},
   "source": [
    "### How it works..."
   ]
  },
  {
   "cell_type": "markdown",
   "metadata": {},
   "source": [
    "### There's more..."
   ]
  },
  {
   "cell_type": "code",
   "execution_count": null,
   "metadata": {
    "lines_to_next_cell": 2
   },
   "outputs": [],
   "source": [
    "imdb_score.add(1)   # imdb_score + 1"
   ]
  },
  {
   "cell_type": "code",
   "execution_count": null,
   "metadata": {
    "lines_to_next_cell": 2
   },
   "outputs": [],
   "source": [
    "imdb_score.gt(7)   # imdb_score > 7"
   ]
  },
  {
   "cell_type": "markdown",
   "metadata": {},
   "source": [
    "### See also"
   ]
  },
  {
   "cell_type": "markdown",
   "metadata": {},
   "source": [
    "## Chaining Series Methods"
   ]
  },
  {
   "cell_type": "markdown",
   "metadata": {},
   "source": [
    "### How to do it... {#how-to-do-it-6}"
   ]
  },
  {
   "cell_type": "code",
   "execution_count": 165,
   "metadata": {
    "lines_to_next_cell": 2
   },
   "outputs": [],
   "source": [
    "movies = pd.read_csv('data/movie.csv')\n",
    "fb_likes = movies['actor_1_facebook_likes']\n",
    "director = movies['director_name']"
   ]
  },
  {
   "cell_type": "code",
   "execution_count": 166,
   "metadata": {
    "lines_to_next_cell": 2
   },
   "outputs": [
    {
     "data": {
      "text/plain": [
       "Steven Spielberg    26\n",
       "Woody Allen         22\n",
       "Martin Scorsese     20\n",
       "Name: director_name, dtype: int64"
      ]
     },
     "execution_count": 166,
     "metadata": {},
     "output_type": "execute_result"
    }
   ],
   "source": [
    "director.value_counts().head(3)"
   ]
  },
  {
   "cell_type": "code",
   "execution_count": 168,
   "metadata": {},
   "outputs": [
    {
     "data": {
      "text/plain": [
       "False    4909\n",
       "True        7\n",
       "Name: actor_1_facebook_likes, dtype: int64"
      ]
     },
     "execution_count": 168,
     "metadata": {},
     "output_type": "execute_result"
    }
   ],
   "source": [
    "fb_likes.isna().value_counts()"
   ]
  },
  {
   "cell_type": "code",
   "execution_count": 167,
   "metadata": {
    "lines_to_next_cell": 2
   },
   "outputs": [
    {
     "data": {
      "text/plain": [
       "7"
      ]
     },
     "execution_count": 167,
     "metadata": {},
     "output_type": "execute_result"
    }
   ],
   "source": [
    "fb_likes.isna().sum() #True가 1"
   ]
  },
  {
   "cell_type": "code",
   "execution_count": 169,
   "metadata": {
    "lines_to_next_cell": 2
   },
   "outputs": [
    {
     "data": {
      "text/plain": [
       "dtype('float64')"
      ]
     },
     "execution_count": 169,
     "metadata": {},
     "output_type": "execute_result"
    }
   ],
   "source": [
    "fb_likes.dtype"
   ]
  },
  {
   "cell_type": "code",
   "execution_count": 170,
   "metadata": {
    "lines_to_next_cell": 2
   },
   "outputs": [
    {
     "data": {
      "text/plain": [
       "0     1000\n",
       "1    40000\n",
       "2    11000\n",
       "3    27000\n",
       "4      131\n",
       "Name: actor_1_facebook_likes, dtype: int32"
      ]
     },
     "execution_count": 170,
     "metadata": {},
     "output_type": "execute_result"
    }
   ],
   "source": [
    "(fb_likes.fillna(0)\n",
    "         .astype(int)\n",
    "         .head()\n",
    ")"
   ]
  },
  {
   "cell_type": "markdown",
   "metadata": {},
   "source": [
    "### How it works..."
   ]
  },
  {
   "cell_type": "markdown",
   "metadata": {},
   "source": [
    "### There's more..."
   ]
  },
  {
   "cell_type": "code",
   "execution_count": 171,
   "metadata": {
    "lines_to_next_cell": 2
   },
   "outputs": [
    {
     "data": {
      "text/plain": [
       "0        1000.0\n",
       "1       40000.0\n",
       "2       11000.0\n",
       "3       27000.0\n",
       "4         131.0\n",
       "         ...   \n",
       "4911      637.0\n",
       "4912      841.0\n",
       "4913        0.0\n",
       "4914      946.0\n",
       "4915       86.0\n",
       "Name: actor_1_facebook_likes, Length: 4916, dtype: float64"
      ]
     },
     "execution_count": 171,
     "metadata": {},
     "output_type": "execute_result"
    }
   ],
   "source": [
    "(fb_likes.fillna(0)\n",
    "         #.astype(int)\n",
    "         #.head()\n",
    ")"
   ]
  },
  {
   "cell_type": "code",
   "execution_count": 172,
   "metadata": {
    "lines_to_next_cell": 2
   },
   "outputs": [
    {
     "data": {
      "text/plain": [
       "0        1000\n",
       "1       40000\n",
       "2       11000\n",
       "3       27000\n",
       "4         131\n",
       "        ...  \n",
       "4911      637\n",
       "4912      841\n",
       "4913        0\n",
       "4914      946\n",
       "4915       86\n",
       "Name: actor_1_facebook_likes, Length: 4916, dtype: int32"
      ]
     },
     "execution_count": 172,
     "metadata": {},
     "output_type": "execute_result"
    }
   ],
   "source": [
    "(fb_likes.fillna(0)\n",
    "         .astype(int)\n",
    "         #.head()\n",
    ")"
   ]
  },
  {
   "cell_type": "code",
   "execution_count": 173,
   "metadata": {
    "lines_to_next_cell": 2
   },
   "outputs": [
    {
     "data": {
      "text/plain": [
       "0.0014239218877135883"
      ]
     },
     "execution_count": 173,
     "metadata": {},
     "output_type": "execute_result"
    }
   ],
   "source": [
    "fb_likes.isna().mean()"
   ]
  },
  {
   "cell_type": "code",
   "execution_count": 178,
   "metadata": {},
   "outputs": [
    {
     "data": {
      "text/plain": [
       "0        1000.0\n",
       "1       40000.0\n",
       "2       11000.0\n",
       "3       27000.0\n",
       "4         131.0\n",
       "         ...   \n",
       "4911      637.0\n",
       "4912      841.0\n",
       "4913        0.0\n",
       "4914      946.0\n",
       "4915       86.0\n",
       "Name: actor_1_facebook_likes, Length: 4916, dtype: float64"
      ]
     },
     "execution_count": 178,
     "metadata": {},
     "output_type": "execute_result"
    }
   ],
   "source": [
    "fb_likes.fillna(0) \\\n",
    "        # .astype(int) \\\n",
    "        # .head()"
   ]
  },
  {
   "cell_type": "code",
   "execution_count": 179,
   "metadata": {},
   "outputs": [],
   "source": [
    "def debug_df(df):\n",
    "    print(\"BEFORE\")\n",
    "    print(df)\n",
    "    print(\"AFTER\")\n",
    "    return df"
   ]
  },
  {
   "cell_type": "code",
   "execution_count": 180,
   "metadata": {
    "lines_to_next_cell": 2
   },
   "outputs": [
    {
     "name": "stdout",
     "output_type": "stream",
     "text": [
      "BEFORE\n",
      "0        1000.0\n",
      "1       40000.0\n",
      "2       11000.0\n",
      "3       27000.0\n",
      "4         131.0\n",
      "         ...   \n",
      "4911      637.0\n",
      "4912      841.0\n",
      "4913        0.0\n",
      "4914      946.0\n",
      "4915       86.0\n",
      "Name: actor_1_facebook_likes, Length: 4916, dtype: float64\n",
      "AFTER\n"
     ]
    },
    {
     "data": {
      "text/plain": [
       "0     1000\n",
       "1    40000\n",
       "2    11000\n",
       "3    27000\n",
       "4      131\n",
       "Name: actor_1_facebook_likes, dtype: int32"
      ]
     },
     "execution_count": 180,
     "metadata": {},
     "output_type": "execute_result"
    }
   ],
   "source": [
    "(fb_likes.fillna(0)\n",
    "         .pipe(debug_df)\n",
    "         .astype(int) \n",
    "         .head()\n",
    ")"
   ]
  },
  {
   "cell_type": "code",
   "execution_count": 181,
   "metadata": {},
   "outputs": [],
   "source": [
    "intermediate = None\n",
    "def get_intermediate(df):\n",
    "    global intermediate\n",
    "    intermediate = df\n",
    "    return df"
   ]
  },
  {
   "cell_type": "code",
   "execution_count": 182,
   "metadata": {
    "lines_to_next_cell": 2
   },
   "outputs": [],
   "source": [
    "res = (fb_likes.fillna(0)\n",
    "         .pipe(get_intermediate)\n",
    "         .astype(int) \n",
    "         .head()\n",
    ")"
   ]
  },
  {
   "cell_type": "code",
   "execution_count": 183,
   "metadata": {
    "lines_to_next_cell": 2
   },
   "outputs": [
    {
     "data": {
      "text/plain": [
       "0        1000.0\n",
       "1       40000.0\n",
       "2       11000.0\n",
       "3       27000.0\n",
       "4         131.0\n",
       "         ...   \n",
       "4911      637.0\n",
       "4912      841.0\n",
       "4913        0.0\n",
       "4914      946.0\n",
       "4915       86.0\n",
       "Name: actor_1_facebook_likes, Length: 4916, dtype: float64"
      ]
     },
     "execution_count": 183,
     "metadata": {},
     "output_type": "execute_result"
    }
   ],
   "source": [
    "intermediate"
   ]
  },
  {
   "cell_type": "markdown",
   "metadata": {},
   "source": [
    "## Renaming Column Names"
   ]
  },
  {
   "cell_type": "markdown",
   "metadata": {},
   "source": [
    "### How to do it..."
   ]
  },
  {
   "cell_type": "code",
   "execution_count": 199,
   "metadata": {
    "lines_to_next_cell": 2
   },
   "outputs": [],
   "source": [
    "movies = pd.read_csv('data/movie.csv')"
   ]
  },
  {
   "cell_type": "code",
   "execution_count": 200,
   "metadata": {
    "lines_to_next_cell": 2
   },
   "outputs": [],
   "source": [
    "col_map = {'director_name':'Director Name', \n",
    "             'num_critic_for_reviews': 'Critical Reviews'} "
   ]
  },
  {
   "cell_type": "code",
   "execution_count": 201,
   "metadata": {
    "lines_to_next_cell": 2
   },
   "outputs": [
    {
     "data": {
      "text/html": [
       "<div>\n",
       "<style scoped>\n",
       "    .dataframe tbody tr th:only-of-type {\n",
       "        vertical-align: middle;\n",
       "    }\n",
       "\n",
       "    .dataframe tbody tr th {\n",
       "        vertical-align: top;\n",
       "    }\n",
       "\n",
       "    .dataframe thead th {\n",
       "        text-align: right;\n",
       "    }\n",
       "</style>\n",
       "<table border=\"1\" class=\"dataframe\">\n",
       "  <thead>\n",
       "    <tr style=\"text-align: right;\">\n",
       "      <th></th>\n",
       "      <th>color</th>\n",
       "      <th>Director Name</th>\n",
       "      <th>...</th>\n",
       "      <th>aspect_ratio</th>\n",
       "      <th>movie_facebook_likes</th>\n",
       "    </tr>\n",
       "  </thead>\n",
       "  <tbody>\n",
       "    <tr>\n",
       "      <th>0</th>\n",
       "      <td>Color</td>\n",
       "      <td>James Cameron</td>\n",
       "      <td>...</td>\n",
       "      <td>1.78</td>\n",
       "      <td>33000</td>\n",
       "    </tr>\n",
       "    <tr>\n",
       "      <th>1</th>\n",
       "      <td>Color</td>\n",
       "      <td>Gore Verbinski</td>\n",
       "      <td>...</td>\n",
       "      <td>2.35</td>\n",
       "      <td>0</td>\n",
       "    </tr>\n",
       "    <tr>\n",
       "      <th>2</th>\n",
       "      <td>Color</td>\n",
       "      <td>Sam Mendes</td>\n",
       "      <td>...</td>\n",
       "      <td>2.35</td>\n",
       "      <td>85000</td>\n",
       "    </tr>\n",
       "    <tr>\n",
       "      <th>3</th>\n",
       "      <td>Color</td>\n",
       "      <td>Christopher Nolan</td>\n",
       "      <td>...</td>\n",
       "      <td>2.35</td>\n",
       "      <td>164000</td>\n",
       "    </tr>\n",
       "    <tr>\n",
       "      <th>4</th>\n",
       "      <td>NaN</td>\n",
       "      <td>Doug Walker</td>\n",
       "      <td>...</td>\n",
       "      <td>NaN</td>\n",
       "      <td>0</td>\n",
       "    </tr>\n",
       "  </tbody>\n",
       "</table>\n",
       "<p>5 rows × 28 columns</p>\n",
       "</div>"
      ],
      "text/plain": [
       "   color      Director Name  ...  aspect_ratio  movie_facebook_likes\n",
       "0  Color      James Cameron  ...          1.78                 33000\n",
       "1  Color     Gore Verbinski  ...          2.35                     0\n",
       "2  Color         Sam Mendes  ...          2.35                 85000\n",
       "3  Color  Christopher Nolan  ...          2.35                164000\n",
       "4    NaN        Doug Walker  ...           NaN                     0\n",
       "\n",
       "[5 rows x 28 columns]"
      ]
     },
     "execution_count": 201,
     "metadata": {},
     "output_type": "execute_result"
    }
   ],
   "source": [
    "movies.rename(columns=col_map).head()"
   ]
  },
  {
   "cell_type": "markdown",
   "metadata": {},
   "source": [
    "### How it works... {#how-it-works-8}"
   ]
  },
  {
   "cell_type": "markdown",
   "metadata": {},
   "source": [
    "### There's more {#theres-more-7}"
   ]
  },
  {
   "cell_type": "code",
   "execution_count": 202,
   "metadata": {
    "lines_to_next_cell": 2
   },
   "outputs": [
    {
     "data": {
      "text/html": [
       "<div>\n",
       "<style scoped>\n",
       "    .dataframe tbody tr th:only-of-type {\n",
       "        vertical-align: middle;\n",
       "    }\n",
       "\n",
       "    .dataframe tbody tr th {\n",
       "        vertical-align: top;\n",
       "    }\n",
       "\n",
       "    .dataframe thead th {\n",
       "        text-align: right;\n",
       "    }\n",
       "</style>\n",
       "<table border=\"1\" class=\"dataframe\">\n",
       "  <thead>\n",
       "    <tr style=\"text-align: right;\">\n",
       "      <th></th>\n",
       "      <th>color</th>\n",
       "      <th>director_name</th>\n",
       "      <th>...</th>\n",
       "      <th>aspect</th>\n",
       "      <th>fblikes</th>\n",
       "    </tr>\n",
       "    <tr>\n",
       "      <th>movie_title</th>\n",
       "      <th></th>\n",
       "      <th></th>\n",
       "      <th></th>\n",
       "      <th></th>\n",
       "      <th></th>\n",
       "    </tr>\n",
       "  </thead>\n",
       "  <tbody>\n",
       "    <tr>\n",
       "      <th>Ratava</th>\n",
       "      <td>Color</td>\n",
       "      <td>James Cameron</td>\n",
       "      <td>...</td>\n",
       "      <td>1.78</td>\n",
       "      <td>33000</td>\n",
       "    </tr>\n",
       "    <tr>\n",
       "      <th>POC</th>\n",
       "      <td>Color</td>\n",
       "      <td>Gore Verbinski</td>\n",
       "      <td>...</td>\n",
       "      <td>2.35</td>\n",
       "      <td>0</td>\n",
       "    </tr>\n",
       "    <tr>\n",
       "      <th>Ertceps</th>\n",
       "      <td>Color</td>\n",
       "      <td>Sam Mendes</td>\n",
       "      <td>...</td>\n",
       "      <td>2.35</td>\n",
       "      <td>85000</td>\n",
       "    </tr>\n",
       "    <tr>\n",
       "      <th>The Dark Knight Rises</th>\n",
       "      <td>Color</td>\n",
       "      <td>Christopher Nolan</td>\n",
       "      <td>...</td>\n",
       "      <td>2.35</td>\n",
       "      <td>164000</td>\n",
       "    </tr>\n",
       "  </tbody>\n",
       "</table>\n",
       "<p>4 rows × 27 columns</p>\n",
       "</div>"
      ],
      "text/plain": [
       "                       color      director_name  ...  aspect  fblikes\n",
       "movie_title                                      ...                 \n",
       "Ratava                 Color      James Cameron  ...    1.78    33000\n",
       "POC                    Color     Gore Verbinski  ...    2.35        0\n",
       "Ertceps                Color         Sam Mendes  ...    2.35    85000\n",
       "The Dark Knight Rises  Color  Christopher Nolan  ...    2.35   164000\n",
       "\n",
       "[4 rows x 27 columns]"
      ]
     },
     "execution_count": 202,
     "metadata": {},
     "output_type": "execute_result"
    }
   ],
   "source": [
    "idx_map = {'Avatar':'Ratava', 'Spectre': 'Ertceps',\n",
    "  \"Pirates of the Caribbean: At World's End\": 'POC'}\n",
    "col_map = {'aspect_ratio': 'aspect',\n",
    "  \"movie_facebook_likes\": 'fblikes'}\n",
    "(movies\n",
    "   .set_index('movie_title')\n",
    "   .rename(index=idx_map, columns=col_map)\n",
    "   .head(4)\n",
    ")"
   ]
  },
  {
   "cell_type": "code",
   "execution_count": 203,
   "metadata": {},
   "outputs": [
    {
     "data": {
      "text/plain": [
       "['Avatar',\n",
       " \"Pirates of the Caribbean: At World's End\",\n",
       " 'Spectre',\n",
       " 'The Dark Knight Rises',\n",
       " 'Star Wars: Episode VII - The Force Awakens',\n",
       " 'John Carter',\n",
       " 'Spider-Man 3',\n",
       " 'Tangled',\n",
       " 'Avengers: Age of Ultron',\n",
       " 'Harry Potter and the Half-Blood Prince',\n",
       " 'Batman v Superman: Dawn of Justice',\n",
       " 'Superman Returns',\n",
       " 'Quantum of Solace',\n",
       " \"Pirates of the Caribbean: Dead Man's Chest\",\n",
       " 'The Lone Ranger',\n",
       " 'Man of Steel',\n",
       " 'The Chronicles of Narnia: Prince Caspian',\n",
       " 'The Avengers',\n",
       " 'Pirates of the Caribbean: On Stranger Tides',\n",
       " 'Men in Black 3',\n",
       " 'The Hobbit: The Battle of the Five Armies',\n",
       " 'The Amazing Spider-Man',\n",
       " 'Robin Hood',\n",
       " 'The Hobbit: The Desolation of Smaug',\n",
       " 'The Golden Compass',\n",
       " 'King Kong',\n",
       " 'Titanic',\n",
       " 'Captain America: Civil War',\n",
       " 'Battleship',\n",
       " 'Jurassic World',\n",
       " 'Skyfall',\n",
       " 'Spider-Man 2',\n",
       " 'Iron Man 3',\n",
       " 'Alice in Wonderland',\n",
       " 'X-Men: The Last Stand',\n",
       " 'Monsters University',\n",
       " 'Transformers: Revenge of the Fallen',\n",
       " 'Transformers: Age of Extinction',\n",
       " 'Oz the Great and Powerful',\n",
       " 'The Amazing Spider-Man 2',\n",
       " 'TRON: Legacy',\n",
       " 'Cars 2',\n",
       " 'Green Lantern',\n",
       " 'Toy Story 3',\n",
       " 'Terminator Salvation',\n",
       " 'Furious 7',\n",
       " 'World War Z',\n",
       " 'X-Men: Days of Future Past',\n",
       " 'Star Trek Into Darkness',\n",
       " 'Jack the Giant Slayer',\n",
       " 'The Great Gatsby',\n",
       " 'Prince of Persia: The Sands of Time',\n",
       " 'Pacific Rim',\n",
       " 'Transformers: Dark of the Moon',\n",
       " 'Indiana Jones and the Kingdom of the Crystal Skull',\n",
       " 'The Good Dinosaur',\n",
       " 'Brave',\n",
       " 'Star Trek Beyond',\n",
       " 'WALL·E',\n",
       " 'Rush Hour 3',\n",
       " '2012',\n",
       " 'A Christmas Carol',\n",
       " 'Jupiter Ascending',\n",
       " 'The Legend of Tarzan',\n",
       " 'The Chronicles of Narnia: The Lion, the Witch and the Wardrobe',\n",
       " 'X-Men: Apocalypse',\n",
       " 'The Dark Knight',\n",
       " 'Up',\n",
       " 'Monsters vs. Aliens',\n",
       " 'Iron Man',\n",
       " 'Hugo',\n",
       " 'Wild Wild West',\n",
       " 'The Mummy: Tomb of the Dragon Emperor',\n",
       " 'Suicide Squad',\n",
       " 'Evan Almighty',\n",
       " 'Edge of Tomorrow',\n",
       " 'Waterworld',\n",
       " 'G.I. Joe: The Rise of Cobra',\n",
       " 'Inside Out',\n",
       " 'The Jungle Book',\n",
       " 'Iron Man 2',\n",
       " 'Snow White and the Huntsman',\n",
       " 'Maleficent',\n",
       " 'Dawn of the Planet of the Apes',\n",
       " 'The Lovers',\n",
       " '47 Ronin',\n",
       " 'Captain America: The Winter Soldier',\n",
       " 'Shrek Forever After',\n",
       " 'Tomorrowland',\n",
       " 'Big Hero 6',\n",
       " 'Wreck-It Ralph',\n",
       " 'The Polar Express',\n",
       " 'Independence Day: Resurgence',\n",
       " 'How to Train Your Dragon',\n",
       " 'Terminator 3: Rise of the Machines',\n",
       " 'Guardians of the Galaxy',\n",
       " 'Interstellar',\n",
       " 'Inception',\n",
       " 'Godzilla Resurgence',\n",
       " 'The Hobbit: An Unexpected Journey',\n",
       " 'The Fast and the Furious',\n",
       " 'The Curious Case of Benjamin Button',\n",
       " 'X-Men: First Class',\n",
       " 'The Hunger Games: Mockingjay - Part 2',\n",
       " \"The Sorcerer's Apprentice\",\n",
       " 'Poseidon',\n",
       " 'Alice Through the Looking Glass',\n",
       " 'Shrek the Third',\n",
       " 'Warcraft',\n",
       " 'Terminator Genisys',\n",
       " 'The Chronicles of Narnia: The Voyage of the Dawn Treader',\n",
       " 'Pearl Harbor',\n",
       " 'Transformers',\n",
       " 'Alexander',\n",
       " 'Harry Potter and the Order of the Phoenix',\n",
       " 'Harry Potter and the Goblet of Fire',\n",
       " 'Hancock',\n",
       " 'I Am Legend',\n",
       " 'Charlie and the Chocolate Factory',\n",
       " 'Ratatouille',\n",
       " 'Batman Begins',\n",
       " 'Madagascar: Escape 2 Africa',\n",
       " 'Night at the Museum: Battle of the Smithsonian',\n",
       " 'X-Men Origins: Wolverine',\n",
       " 'The Matrix Revolutions',\n",
       " 'Frozen',\n",
       " 'The Matrix Reloaded',\n",
       " 'Thor: The Dark World',\n",
       " 'Mad Max: Fury Road',\n",
       " 'Angels & Demons',\n",
       " 'Thor',\n",
       " 'Bolt',\n",
       " 'G-Force',\n",
       " 'Wrath of the Titans',\n",
       " 'Dark Shadows',\n",
       " 'Mission: Impossible - Rogue Nation',\n",
       " 'The Wolfman',\n",
       " 'Bee Movie',\n",
       " 'Kung Fu Panda 2',\n",
       " 'The Last Airbender',\n",
       " 'Mission: Impossible III',\n",
       " 'White House Down',\n",
       " 'Mars Needs Moms',\n",
       " 'Flushed Away',\n",
       " 'Pan',\n",
       " 'Mr. Peabody & Sherman',\n",
       " 'Troy',\n",
       " \"Madagascar 3: Europe's Most Wanted\",\n",
       " 'Die Another Day',\n",
       " 'Ghostbusters',\n",
       " 'Armageddon',\n",
       " 'Men in Black II',\n",
       " 'Beowulf',\n",
       " 'Kung Fu Panda 3',\n",
       " 'Mission: Impossible - Ghost Protocol',\n",
       " 'Rise of the Guardians',\n",
       " 'Fun with Dick and Jane',\n",
       " 'The Last Samurai',\n",
       " 'Exodus: Gods and Kings',\n",
       " 'Star Trek',\n",
       " 'Spider-Man',\n",
       " 'How to Train Your Dragon 2',\n",
       " 'Gods of Egypt',\n",
       " 'Stealth',\n",
       " 'Watchmen',\n",
       " 'Lethal Weapon 4',\n",
       " 'Hulk',\n",
       " 'G.I. Joe: Retaliation',\n",
       " 'Sahara',\n",
       " 'Final Fantasy: The Spirits Within',\n",
       " 'Captain America: The First Avenger',\n",
       " 'The World Is Not Enough',\n",
       " 'Master and Commander: The Far Side of the World',\n",
       " 'The Twilight Saga: Breaking Dawn - Part 2',\n",
       " 'Happy Feet 2',\n",
       " 'The Incredible Hulk',\n",
       " 'Miami Vice',\n",
       " 'The BFG',\n",
       " 'The Revenant',\n",
       " 'Turbo',\n",
       " 'Rango',\n",
       " 'Penguins of Madagascar',\n",
       " 'The Bourne Ultimatum',\n",
       " 'Kung Fu Panda',\n",
       " 'Ant-Man',\n",
       " 'The Hunger Games: Catching Fire',\n",
       " 'Home',\n",
       " 'War of the Worlds',\n",
       " 'Bad Boys II',\n",
       " 'Puss in Boots',\n",
       " 'Salt',\n",
       " 'Noah',\n",
       " 'The Adventures of Tintin',\n",
       " 'Harry Potter and the Prisoner of Azkaban',\n",
       " 'Australia',\n",
       " 'After Earth',\n",
       " 'Dinosaur',\n",
       " 'Harry Potter and the Deathly Hallows: Part II',\n",
       " 'Night at the Museum: Secret of the Tomb',\n",
       " 'Megamind',\n",
       " \"Harry Potter and the Sorcerer's Stone\",\n",
       " 'R.I.P.D.',\n",
       " 'Pirates of the Caribbean: The Curse of the Black Pearl',\n",
       " 'Harry Potter and the Deathly Hallows: Part I',\n",
       " 'The Hunger Games: Mockingjay - Part 1',\n",
       " 'The Da Vinci Code',\n",
       " 'Rio 2',\n",
       " 'X-Men 2',\n",
       " 'Fast Five',\n",
       " 'Sherlock Holmes: A Game of Shadows',\n",
       " 'Clash of the Titans',\n",
       " 'Total Recall',\n",
       " 'The 13th Warrior',\n",
       " 'The Bourne Legacy',\n",
       " 'Batman & Robin',\n",
       " 'How the Grinch Stole Christmas',\n",
       " 'The Day After Tomorrow',\n",
       " 'Mission: Impossible II',\n",
       " 'The Perfect Storm',\n",
       " 'Fantastic 4: Rise of the Silver Surfer',\n",
       " 'Life of Pi',\n",
       " 'Ghost Rider',\n",
       " 'Jason Bourne',\n",
       " \"Charlie's Angels: Full Throttle\",\n",
       " 'Prometheus',\n",
       " 'Stuart Little 2',\n",
       " 'Elysium',\n",
       " 'The Chronicles of Riddick',\n",
       " 'RoboCop',\n",
       " 'Speed Racer',\n",
       " 'How Do You Know',\n",
       " 'Knight and Day',\n",
       " 'Oblivion',\n",
       " 'Star Wars: Episode III - Revenge of the Sith',\n",
       " 'Star Wars: Episode II - Attack of the Clones',\n",
       " 'Monsters, Inc.',\n",
       " 'The Wolverine',\n",
       " 'Star Wars: Episode I - The Phantom Menace',\n",
       " 'The Croods',\n",
       " 'Asterix at the Olympic Games',\n",
       " 'Windtalkers',\n",
       " \"The Huntsman: Winter's War\",\n",
       " 'Teenage Mutant Ninja Turtles',\n",
       " 'Gravity',\n",
       " \"Dante's Peak\",\n",
       " 'Teenage Mutant Ninja Turtles: Out of the Shadows',\n",
       " 'Fantastic Four',\n",
       " 'Night at the Museum',\n",
       " 'San Andreas',\n",
       " 'Tomorrow Never Dies',\n",
       " 'The Patriot',\n",
       " \"Ocean's Twelve\",\n",
       " 'Mr. & Mrs. Smith',\n",
       " 'Insurgent',\n",
       " 'The Aviator',\n",
       " \"Gulliver's Travels\",\n",
       " 'The Green Hornet',\n",
       " 'The A-Team',\n",
       " '300: Rise of an Empire',\n",
       " 'The Smurfs',\n",
       " 'Home on the Range',\n",
       " 'Allegiant',\n",
       " 'Real Steel',\n",
       " 'The Smurfs 2',\n",
       " 'Speed 2: Cruise Control',\n",
       " \"Ender's Game\",\n",
       " 'Live Free or Die Hard',\n",
       " 'The Lord of the Rings: The Fellowship of the Ring',\n",
       " 'Around the World in 80 Days',\n",
       " 'Ali',\n",
       " 'The Cat in the Hat',\n",
       " 'I, Robot',\n",
       " 'Kingdom of Heaven',\n",
       " 'Stuart Little',\n",
       " 'The Princess and the Frog',\n",
       " 'The Martian',\n",
       " '10,000 B.C.',\n",
       " 'The Island',\n",
       " 'Town & Country',\n",
       " 'Gone in Sixty Seconds',\n",
       " 'Gladiator',\n",
       " 'Minority Report',\n",
       " 'Harry Potter and the Chamber of Secrets',\n",
       " 'Casino Royale',\n",
       " 'Planet of the Apes',\n",
       " 'Terminator 2: Judgment Day',\n",
       " 'Public Enemies',\n",
       " 'American Gangster',\n",
       " 'True Lies',\n",
       " 'The Taking of Pelham 1 2 3',\n",
       " 'Little Fockers',\n",
       " 'The Other Guys',\n",
       " 'Eraser',\n",
       " 'Django Unchained',\n",
       " 'The Hunchback of Notre Dame',\n",
       " \"The Emperor's New Groove\",\n",
       " 'The Expendables 2',\n",
       " 'National Treasure',\n",
       " 'Eragon',\n",
       " 'Where the Wild Things Are',\n",
       " 'Epic',\n",
       " 'The Tourist',\n",
       " 'End of Days',\n",
       " 'Blood Diamond',\n",
       " 'The Wolf of Wall Street',\n",
       " 'Batman Forever',\n",
       " 'Starship Troopers',\n",
       " 'Cloud Atlas',\n",
       " \"Legend of the Guardians: The Owls of Ga'Hoole\",\n",
       " 'Catwoman',\n",
       " 'Hercules',\n",
       " 'Treasure Planet',\n",
       " 'Land of the Lost',\n",
       " 'The Expendables 3',\n",
       " 'Point Break',\n",
       " 'Son of the Mask',\n",
       " 'In the Heart of the Sea',\n",
       " 'The Adventures of Pluto Nash',\n",
       " 'Green Zone',\n",
       " 'The Peanuts Movie',\n",
       " 'The Spanish Prisoner',\n",
       " 'The Mummy Returns',\n",
       " 'Gangs of New York',\n",
       " 'The Flowers of War',\n",
       " \"Surf's Up\",\n",
       " 'The Stepford Wives',\n",
       " 'Black Hawk Down',\n",
       " 'The Campaign',\n",
       " 'The Fifth Element',\n",
       " 'Sex and the City 2',\n",
       " 'The Road to El Dorado',\n",
       " 'Ice Age: Continental Drift',\n",
       " 'Cinderella',\n",
       " 'The Lovely Bones',\n",
       " 'Finding Nemo',\n",
       " 'The Lord of the Rings: The Return of the King',\n",
       " 'The Lord of the Rings: The Two Towers',\n",
       " 'Seventh Son',\n",
       " 'Lara Croft: Tomb Raider',\n",
       " 'Transcendence',\n",
       " 'Jurassic Park III',\n",
       " 'Rise of the Planet of the Apes',\n",
       " 'The Spiderwick Chronicles',\n",
       " 'A Good Day to Die Hard',\n",
       " 'The Alamo',\n",
       " 'The Incredibles',\n",
       " 'Cutthroat Island',\n",
       " 'Percy Jackson & the Olympians: The Lightning Thief',\n",
       " 'Men in Black',\n",
       " 'Toy Story 2',\n",
       " 'Unstoppable',\n",
       " 'Rush Hour 2',\n",
       " 'What Lies Beneath',\n",
       " 'Cloudy with a Chance of Meatballs',\n",
       " 'Ice Age: Dawn of the Dinosaurs',\n",
       " 'The Secret Life of Walter Mitty',\n",
       " \"Charlie's Angels\",\n",
       " 'The Departed',\n",
       " 'Mulan',\n",
       " 'Tropic Thunder',\n",
       " 'The Girl with the Dragon Tattoo',\n",
       " 'Die Hard with a Vengeance',\n",
       " 'Sherlock Holmes',\n",
       " 'Ben-Hur',\n",
       " 'Atlantis: The Lost Empire',\n",
       " 'Alvin and the Chipmunks: The Road Chip',\n",
       " 'Valkyrie',\n",
       " \"You Don't Mess with the Zohan\",\n",
       " 'Pixels',\n",
       " 'A.I. Artificial Intelligence',\n",
       " 'The Haunted Mansion',\n",
       " 'Contact',\n",
       " 'Hollow Man',\n",
       " 'The Interpreter',\n",
       " 'Percy Jackson: Sea of Monsters',\n",
       " 'Lara Croft Tomb Raider: The Cradle of Life',\n",
       " 'Now You See Me 2',\n",
       " 'The Saint',\n",
       " 'Spy Game',\n",
       " 'Mission to Mars',\n",
       " 'Rio',\n",
       " 'Bicentennial Man',\n",
       " 'Volcano',\n",
       " \"The Devil's Own\",\n",
       " 'K-19: The Widowmaker',\n",
       " 'Conan the Barbarian',\n",
       " 'Cinderella Man',\n",
       " 'The Nutcracker in 3D',\n",
       " 'Seabiscuit',\n",
       " 'Twister',\n",
       " 'Cast Away',\n",
       " 'Happy Feet',\n",
       " 'The Bourne Supremacy',\n",
       " 'Air Force One',\n",
       " \"Ocean's Eleven\",\n",
       " 'The Three Musketeers',\n",
       " 'Hotel Transylvania',\n",
       " 'Enchanted',\n",
       " 'Hannibal',\n",
       " 'Safe House',\n",
       " '102 Dalmatians',\n",
       " 'Tower Heist',\n",
       " 'The Holiday',\n",
       " 'Enemy of the State',\n",
       " \"It's Complicated\",\n",
       " \"Ocean's Thirteen\",\n",
       " 'Open Season',\n",
       " 'Divergent',\n",
       " 'Enemy at the Gates',\n",
       " 'The Rundown',\n",
       " 'Last Action Hero',\n",
       " 'Memoirs of a Geisha',\n",
       " 'The Fast and the Furious: Tokyo Drift',\n",
       " 'Arthur Christmas',\n",
       " 'Meet Joe Black',\n",
       " 'Collateral Damage',\n",
       " 'All That Jazz',\n",
       " 'Mirror Mirror',\n",
       " 'Scott Pilgrim vs. the World',\n",
       " 'The Core',\n",
       " 'Nutty Professor II: The Klumps',\n",
       " 'Scooby-Doo',\n",
       " 'Dredd',\n",
       " 'Click',\n",
       " 'Creepshow',\n",
       " 'Cats & Dogs: The Revenge of Kitty Galore',\n",
       " 'Jumper',\n",
       " 'Hellboy II: The Golden Army',\n",
       " 'Zodiac',\n",
       " 'The 6th Day',\n",
       " 'Bruce Almighty',\n",
       " 'The Expendables',\n",
       " 'Mission: Impossible',\n",
       " 'The Hunger Games',\n",
       " 'The Hangover Part II',\n",
       " 'Batman Returns',\n",
       " 'Over the Hedge',\n",
       " 'Lilo & Stitch',\n",
       " \"Charlotte's Web\",\n",
       " 'Deep Impact',\n",
       " 'RED 2',\n",
       " 'The Longest Yard',\n",
       " 'Alvin and the Chipmunks: Chipwrecked',\n",
       " 'Grown Ups 2',\n",
       " 'Get Smart',\n",
       " \"Something's Gotta Give\",\n",
       " 'Shutter Island',\n",
       " 'Four Christmases',\n",
       " 'Robots',\n",
       " 'Face/Off',\n",
       " 'Bedtime Stories',\n",
       " 'Road to Perdition',\n",
       " 'Just Go with It',\n",
       " 'Daredevil',\n",
       " 'Con Air',\n",
       " 'Eagle Eye',\n",
       " 'Cold Mountain',\n",
       " 'The Book of Eli',\n",
       " 'Flubber',\n",
       " 'The Haunting',\n",
       " 'Space Jam',\n",
       " 'The Pink Panther',\n",
       " 'The Day the Earth Stood Still',\n",
       " 'Conspiracy Theory',\n",
       " 'Fury',\n",
       " 'Six Days Seven Nights',\n",
       " 'Yogi Bear',\n",
       " 'Spirit: Stallion of the Cimarron',\n",
       " 'Zookeeper',\n",
       " 'Lost in Space',\n",
       " 'The Manchurian Candidate',\n",
       " 'Déjà Vu',\n",
       " 'Hotel Transylvania 2',\n",
       " 'Bewitched',\n",
       " 'Fantasia 2000',\n",
       " 'The Time Machine',\n",
       " 'Mighty Joe Young',\n",
       " 'Swordfish',\n",
       " 'The Legend of Zorro',\n",
       " 'What Dreams May Come',\n",
       " 'Little Nicky',\n",
       " 'The Brothers Grimm',\n",
       " 'Mars Attacks!',\n",
       " 'Evolution',\n",
       " 'The Edge',\n",
       " 'Surrogates',\n",
       " 'Thirteen Days',\n",
       " 'Daylight',\n",
       " 'Walking with Dinosaurs 3D',\n",
       " 'Battlefield Earth',\n",
       " 'Looney Tunes: Back in Action',\n",
       " 'Nine',\n",
       " 'Timeline',\n",
       " 'The Postman',\n",
       " 'Babe: Pig in the City',\n",
       " 'The Last Witch Hunter',\n",
       " 'Red Planet',\n",
       " 'Arthur and the Invisibles',\n",
       " 'Oceans',\n",
       " 'A Sound of Thunder',\n",
       " 'Pompeii',\n",
       " 'Top Cat Begins',\n",
       " 'A Beautiful Mind',\n",
       " 'The Lion King',\n",
       " 'Journey 2: The Mysterious Island',\n",
       " 'Cloudy with a Chance of Meatballs 2',\n",
       " 'Red Dragon',\n",
       " 'Hidalgo',\n",
       " 'Jack and Jill',\n",
       " '2 Fast 2 Furious',\n",
       " 'The Little Prince',\n",
       " 'The Invasion',\n",
       " 'The Adventures of Rocky & Bullwinkle',\n",
       " 'The Secret Life of Pets',\n",
       " 'The League of Extraordinary Gentlemen',\n",
       " 'Despicable Me 2',\n",
       " 'Independence Day',\n",
       " 'The Lost World: Jurassic Park',\n",
       " 'Madagascar',\n",
       " 'Children of Men',\n",
       " 'X-Men',\n",
       " 'Wanted',\n",
       " 'The Rock',\n",
       " 'Ice Age: The Meltdown',\n",
       " '50 First Dates',\n",
       " 'Hairspray',\n",
       " 'Exorcist: The Beginning',\n",
       " 'Inspector Gadget',\n",
       " 'Now You See Me',\n",
       " 'Grown Ups',\n",
       " 'The Terminal',\n",
       " 'Constantine',\n",
       " 'Hotel for Dogs',\n",
       " 'Vertical Limit',\n",
       " \"Charlie Wilson's War\",\n",
       " 'Shark Tale',\n",
       " 'Dreamgirls',\n",
       " 'Life',\n",
       " 'Be Cool',\n",
       " 'Munich',\n",
       " 'Tears of the Sun',\n",
       " 'Killers',\n",
       " 'The Man from U.N.C.L.E.',\n",
       " 'Spanglish',\n",
       " 'Monster House',\n",
       " 'Bandits',\n",
       " 'First Knight',\n",
       " 'Anna and the King',\n",
       " 'Immortals',\n",
       " 'Hostage',\n",
       " 'Titan A.E.',\n",
       " 'Hollywood Homicide',\n",
       " 'Soldier',\n",
       " 'Carriers',\n",
       " 'Monkeybone',\n",
       " 'Flight of the Phoenix',\n",
       " 'Unbreakable',\n",
       " 'Minions',\n",
       " 'Sucker Punch',\n",
       " 'Snake Eyes',\n",
       " 'Sphere',\n",
       " 'The Angry Birds Movie',\n",
       " \"Fool's Gold\",\n",
       " 'Funny People',\n",
       " 'The Kingdom',\n",
       " 'Talladega Nights: The Ballad of Ricky Bobby',\n",
       " 'Dr. Dolittle 2',\n",
       " 'Braveheart',\n",
       " 'Jarhead',\n",
       " 'The Simpsons Movie',\n",
       " 'The Majestic',\n",
       " 'Driven',\n",
       " 'Two Brothers',\n",
       " 'The Village',\n",
       " 'Doctor Dolittle',\n",
       " 'Signs',\n",
       " 'Shrek 2',\n",
       " 'Cars',\n",
       " 'Runaway Bride',\n",
       " 'xXx',\n",
       " 'The SpongeBob Movie: Sponge Out of Water',\n",
       " 'Ransom',\n",
       " 'Inglourious Basterds',\n",
       " 'Hook',\n",
       " 'Die Hard 2',\n",
       " 'S.W.A.T.',\n",
       " 'Sleepy Hollow',\n",
       " 'Vanilla Sky',\n",
       " 'Lady in the Water',\n",
       " 'AVP: Alien vs. Predator',\n",
       " 'Alvin and the Chipmunks: The Squeakquel',\n",
       " 'We Were Soldiers',\n",
       " 'Olympus Has Fallen',\n",
       " 'Star Trek: Insurrection',\n",
       " 'Battle Los Angeles',\n",
       " 'Big Fish',\n",
       " 'Wolf',\n",
       " 'War Horse',\n",
       " 'The Monuments Men',\n",
       " 'The Abyss',\n",
       " 'Wall Street: Money Never Sleeps',\n",
       " 'Dracula Untold',\n",
       " 'The Siege',\n",
       " 'Stardust',\n",
       " 'Seven Years in Tibet',\n",
       " 'The Dilemma',\n",
       " 'Bad Company',\n",
       " 'Doom',\n",
       " 'I Spy',\n",
       " 'Underworld: Awakening',\n",
       " 'Rock of Ages',\n",
       " \"Hart's War\",\n",
       " 'Killer Elite',\n",
       " 'Rollerball',\n",
       " 'Ballistic: Ecks vs. Sever',\n",
       " 'Hard Rain',\n",
       " 'Osmosis Jones',\n",
       " \"Legends of Oz: Dorothy's Return\",\n",
       " 'Blackhat',\n",
       " 'Sky Captain and the World of Tomorrow',\n",
       " 'Basic Instinct 2',\n",
       " 'Escape Plan',\n",
       " 'The Legend of Hercules',\n",
       " 'The Sum of All Fears',\n",
       " 'The Twilight Saga: Eclipse',\n",
       " 'The Score',\n",
       " 'Despicable Me',\n",
       " 'Money Train',\n",
       " 'Ted 2',\n",
       " 'Agora',\n",
       " 'Mystery Men',\n",
       " 'Hall Pass',\n",
       " 'The Insider',\n",
       " 'The Finest Hours',\n",
       " 'Body of Lies',\n",
       " 'Dinner for Schmucks',\n",
       " 'Abraham Lincoln: Vampire Hunter',\n",
       " 'Entrapment',\n",
       " 'Last Man Standing',\n",
       " 'The X Files',\n",
       " 'The Last Legion',\n",
       " 'Saving Private Ryan',\n",
       " 'Need for Speed',\n",
       " 'What Women Want',\n",
       " 'Ice Age',\n",
       " 'Dreamcatcher',\n",
       " 'Lincoln',\n",
       " 'The Matrix',\n",
       " 'Apollo 13',\n",
       " 'The Santa Clause 2',\n",
       " 'Les Misérables',\n",
       " \"You've Got Mail\",\n",
       " 'Step Brothers',\n",
       " 'The Mask of Zorro',\n",
       " 'Due Date',\n",
       " 'Unbroken',\n",
       " 'Space Cowboys',\n",
       " 'Cliffhanger',\n",
       " 'Broken Arrow',\n",
       " 'The Kid',\n",
       " 'World Trade Center',\n",
       " 'Mona Lisa Smile',\n",
       " 'The Dictator',\n",
       " 'Eyes Wide Shut',\n",
       " 'Annie',\n",
       " 'Focus',\n",
       " 'This Means War',\n",
       " 'Blade: Trinity',\n",
       " 'Red Dawn',\n",
       " 'Primary Colors',\n",
       " 'Resident Evil: Retribution',\n",
       " 'Death Race',\n",
       " 'The Long Kiss Goodnight',\n",
       " 'Proof of Life',\n",
       " 'Zathura: A Space Adventure',\n",
       " 'Fight Club',\n",
       " 'We Are Marshall',\n",
       " 'The Missing',\n",
       " 'Hudson Hawk',\n",
       " 'Lucky Numbers',\n",
       " 'I, Frankenstein',\n",
       " 'Oliver Twist',\n",
       " 'Elektra',\n",
       " 'Sin City: A Dame to Kill For',\n",
       " 'Random Hearts',\n",
       " 'Everest',\n",
       " 'Perfume: The Story of a Murderer',\n",
       " 'Austin Powers in Goldmember',\n",
       " 'Astro Boy',\n",
       " 'Jurassic Park',\n",
       " 'Wyatt Earp',\n",
       " 'Clear and Present Danger',\n",
       " 'Dragon Blade',\n",
       " 'Littleman',\n",
       " 'U-571',\n",
       " 'The American President',\n",
       " 'The Love Guru',\n",
       " '3000 Miles to Graceland',\n",
       " 'The Hateful Eight',\n",
       " 'Blades of Glory',\n",
       " 'Hop',\n",
       " '300',\n",
       " 'Meet the Fockers',\n",
       " 'Marley & Me',\n",
       " 'The Green Mile',\n",
       " 'Wild Hogs',\n",
       " 'Chicken Little',\n",
       " 'Gone Girl',\n",
       " 'The Bourne Identity',\n",
       " 'GoldenEye',\n",
       " \"The General's Daughter\",\n",
       " 'The Truman Show',\n",
       " 'The Prince of Egypt',\n",
       " 'Daddy Day Care',\n",
       " '2 Guns',\n",
       " 'Cats & Dogs',\n",
       " 'The Italian Job',\n",
       " 'Two Weeks Notice',\n",
       " 'Antz',\n",
       " 'Couples Retreat',\n",
       " 'Days of Thunder',\n",
       " 'Cheaper by the Dozen 2',\n",
       " 'The Scorch Trials',\n",
       " 'Eat Pray Love',\n",
       " 'The Family Man',\n",
       " 'RED',\n",
       " 'Any Given Sunday',\n",
       " 'The Horse Whisperer',\n",
       " 'Collateral',\n",
       " 'The Scorpion King',\n",
       " 'Ladder 49',\n",
       " 'Jack Reacher',\n",
       " 'Deep Blue Sea',\n",
       " 'This Is It',\n",
       " 'Contagion',\n",
       " 'Kangaroo Jack',\n",
       " 'Coraline',\n",
       " 'The Happening',\n",
       " 'Man on Fire',\n",
       " 'The Shaggy Dog',\n",
       " 'Starsky & Hutch',\n",
       " 'Jingle All the Way',\n",
       " 'Hellboy',\n",
       " 'A Civil Action',\n",
       " 'ParaNorman',\n",
       " 'The Jackal',\n",
       " 'Paycheck',\n",
       " 'Up Close & Personal',\n",
       " 'The Tale of Despereaux',\n",
       " 'Rules of Engagement',\n",
       " 'The Tuxedo',\n",
       " 'Under Siege 2: Dark Territory',\n",
       " 'Jack Ryan: Shadow Recruit',\n",
       " 'Joy',\n",
       " 'London Has Fallen',\n",
       " 'Alien: Resurrection',\n",
       " 'Shooter',\n",
       " 'The Boxtrolls',\n",
       " 'Practical Magic',\n",
       " 'The Lego Movie',\n",
       " 'Miss Congeniality 2: Armed and Fabulous',\n",
       " 'Reign of Fire',\n",
       " 'Gangster Squad',\n",
       " 'Year One',\n",
       " 'Invictus',\n",
       " 'State of Play',\n",
       " 'Duplicity',\n",
       " 'My Favorite Martian',\n",
       " 'The Sentinel',\n",
       " 'Planet 51',\n",
       " 'Star Trek: Nemesis',\n",
       " 'Intolerable Cruelty',\n",
       " 'Trouble with the Curve',\n",
       " 'Edge of Darkness',\n",
       " 'The Relic',\n",
       " 'Analyze That',\n",
       " 'Righteous Kill',\n",
       " 'Mercury Rising',\n",
       " 'The Soloist',\n",
       " 'The Legend of Bagger Vance',\n",
       " 'Almost Famous',\n",
       " 'Garfield 2',\n",
       " 'xXx: State of the Union',\n",
       " 'Priest',\n",
       " 'Sinbad: Legend of the Seven Seas',\n",
       " 'Event Horizon',\n",
       " 'Dragonfly',\n",
       " 'The Black Dahlia',\n",
       " 'Flyboys',\n",
       " 'The Last Castle',\n",
       " 'Supernova',\n",
       " \"Winter's Tale\",\n",
       " 'The Mortal Instruments: City of Bones',\n",
       " 'Meet Dave',\n",
       " 'Dark Water',\n",
       " 'Edtv',\n",
       " 'Inkheart',\n",
       " 'The Spirit',\n",
       " 'Mortdecai',\n",
       " 'In the Name of the King: A Dungeon Siege Tale',\n",
       " 'Beyond Borders',\n",
       " 'Xi you ji zhi: Sun Wukong san da Baigu Jing',\n",
       " 'The Great Raid',\n",
       " 'Deadpool',\n",
       " 'Holy Man',\n",
       " 'American Sniper',\n",
       " 'Goosebumps',\n",
       " 'Sabrina, the Teenage Witch',\n",
       " 'Just Like Heaven',\n",
       " 'The Flintstones in Viva Rock Vegas',\n",
       " 'Rambo III',\n",
       " 'Leatherheads',\n",
       " 'The Ridiculous 6',\n",
       " 'Did You Hear About the Morgans?',\n",
       " 'The Internship',\n",
       " 'Resident Evil: Afterlife',\n",
       " 'Red Tails',\n",
       " 'Sex and the City',\n",
       " \"The Devil's Advocate\",\n",
       " \"That's My Boy\",\n",
       " 'DragonHeart',\n",
       " 'After the Sunset',\n",
       " 'Ghost Rider: Spirit of Vengeance',\n",
       " \"Captain Corelli's Mandolin\",\n",
       " 'Anger Management',\n",
       " 'The Pacifier',\n",
       " 'Walking Tall',\n",
       " 'Forrest Gump',\n",
       " 'Alvin and the Chipmunks',\n",
       " 'Meet the Parents',\n",
       " 'Pocahontas',\n",
       " 'Superman',\n",
       " 'The Nutty Professor',\n",
       " 'Hitch',\n",
       " 'George of the Jungle',\n",
       " 'American Wedding',\n",
       " 'Captain Phillips',\n",
       " 'Date Night',\n",
       " 'Casper',\n",
       " 'The Equalizer',\n",
       " 'Maid in Manhattan',\n",
       " 'Crimson Tide',\n",
       " 'The Pursuit of Happyness',\n",
       " 'Flightplan',\n",
       " 'Disclosure',\n",
       " 'City of Angels',\n",
       " 'Kill Bill: Vol. 1',\n",
       " 'Bowfinger',\n",
       " 'Stargate SG-1',\n",
       " 'Kill Bill: Vol. 2',\n",
       " 'Tango & Cash',\n",
       " 'Death Becomes Her',\n",
       " 'Shanghai Noon',\n",
       " 'Executive Decision',\n",
       " \"Mr. Popper's Penguins\",\n",
       " 'The Forbidden Kingdom',\n",
       " 'Free Birds',\n",
       " 'Alien 3',\n",
       " 'Evita',\n",
       " 'Ronin',\n",
       " 'The Ghost and the Darkness',\n",
       " 'Paddington',\n",
       " 'The Watch',\n",
       " 'The Hunted',\n",
       " 'Instinct',\n",
       " 'Stuck on You',\n",
       " 'Semi-Pro',\n",
       " 'The Pirates! Band of Misfits',\n",
       " 'Changeling',\n",
       " 'Chain Reaction',\n",
       " 'The Fan',\n",
       " 'The Phantom of the Opera',\n",
       " 'Elizabeth: The Golden Age',\n",
       " 'Æon Flux',\n",
       " 'Gods and Generals',\n",
       " 'Turbulence',\n",
       " 'Imagine That',\n",
       " 'Muppets Most Wanted',\n",
       " 'Thunderbirds',\n",
       " 'Burlesque',\n",
       " 'A Very Long Engagement',\n",
       " 'Lolita',\n",
       " 'Eye See You',\n",
       " 'Blade II',\n",
       " 'Seven Pounds',\n",
       " 'Bullet to the Head',\n",
       " 'The Godfather: Part III',\n",
       " 'Elizabethtown',\n",
       " 'You, Me and Dupree',\n",
       " 'Superman II',\n",
       " 'Gigli',\n",
       " \"All the King's Men\",\n",
       " 'Shaft',\n",
       " 'Anastasia',\n",
       " 'Moulin Rouge!',\n",
       " 'Domestic Disturbance',\n",
       " 'Black Mass',\n",
       " 'Flags of Our Fathers',\n",
       " 'Law Abiding Citizen',\n",
       " 'Grindhouse',\n",
       " 'Beloved',\n",
       " 'Lucky You',\n",
       " 'Catch Me If You Can',\n",
       " 'Zero Dark Thirty',\n",
       " 'The Break-Up',\n",
       " 'Mamma Mia!',\n",
       " \"Valentine's Day\",\n",
       " 'The Dukes of Hazzard',\n",
       " 'The Thin Red Line',\n",
       " 'The Change-Up',\n",
       " 'Man on the Moon',\n",
       " 'Casino',\n",
       " 'From Paris with Love',\n",
       " 'Bulletproof Monk',\n",
       " 'Me, Myself & Irene',\n",
       " 'Barnyard',\n",
       " 'Deck the Halls',\n",
       " 'The Twilight Saga: New Moon',\n",
       " 'Shrek',\n",
       " 'The Adjustment Bureau',\n",
       " 'Robin Hood: Prince of Thieves',\n",
       " 'Jerry Maguire',\n",
       " 'Ted',\n",
       " 'As Good as It Gets',\n",
       " 'Patch Adams',\n",
       " 'Anchorman 2: The Legend Continues',\n",
       " 'Mr. Deeds',\n",
       " 'Super 8',\n",
       " 'Erin Brockovich',\n",
       " 'How to Lose a Guy in 10 Days',\n",
       " '22 Jump Street',\n",
       " 'Interview with the Vampire: The Vampire Chronicles',\n",
       " 'Yes Man',\n",
       " 'Central Intelligence',\n",
       " 'Stepmom',\n",
       " \"Daddy's Home\",\n",
       " 'Into the Woods',\n",
       " 'Inside Man',\n",
       " 'Payback',\n",
       " 'Congo',\n",
       " 'We Bought a Zoo',\n",
       " 'Knowing',\n",
       " 'Failure to Launch',\n",
       " 'The Ring Two',\n",
       " 'Crazy, Stupid, Love.',\n",
       " 'Garfield',\n",
       " 'Christmas with the Kranks',\n",
       " 'Moneyball',\n",
       " 'Outbreak',\n",
       " 'Non-Stop',\n",
       " 'Race to Witch Mountain',\n",
       " 'V for Vendetta',\n",
       " 'Shanghai Knights',\n",
       " 'Unforgotten',\n",
       " 'Curious George',\n",
       " 'Herbie Fully Loaded',\n",
       " \"Don't Say a Word\",\n",
       " 'Hansel & Gretel: Witch Hunters',\n",
       " 'Unfaithful',\n",
       " 'I Am Number Four',\n",
       " 'Syriana',\n",
       " '13 Hours',\n",
       " 'The Book of Life',\n",
       " 'Firewall',\n",
       " 'Absolute Power',\n",
       " 'G.I. Jane',\n",
       " 'The Game',\n",
       " 'Silent Hill',\n",
       " 'The Replacements',\n",
       " 'American Reunion',\n",
       " 'The Negotiator',\n",
       " 'Into the Storm',\n",
       " 'Beverly Hills Cop III',\n",
       " 'Gremlins 2: The New Batch',\n",
       " 'The Judge',\n",
       " 'The Peacemaker',\n",
       " 'Resident Evil: Apocalypse',\n",
       " 'Bridget Jones: The Edge of Reason',\n",
       " 'Out of Time',\n",
       " 'On Deadly Ground',\n",
       " 'The Adventures of Sharkboy and Lavagirl 3-D',\n",
       " 'The Beach',\n",
       " 'Raising Helen',\n",
       " 'Ninja Assassin',\n",
       " 'For Love of the Game',\n",
       " 'A Touch of Frost',\n",
       " 'Striptease',\n",
       " 'Marmaduke',\n",
       " 'Hereafter',\n",
       " 'Murder by Numbers',\n",
       " 'Assassins',\n",
       " 'Hannibal Rising',\n",
       " 'The Story of Us',\n",
       " 'The Host',\n",
       " 'Basic',\n",
       " 'Blood Work',\n",
       " 'The International',\n",
       " 'Escape from L.A.',\n",
       " 'Twisted',\n",
       " 'The Iron Giant',\n",
       " ...]"
      ]
     },
     "execution_count": 203,
     "metadata": {},
     "output_type": "execute_result"
    }
   ],
   "source": [
    "movies.set_index('movie_title').index.tolist()"
   ]
  },
  {
   "cell_type": "code",
   "execution_count": 204,
   "metadata": {
    "lines_to_next_cell": 2
   },
   "outputs": [],
   "source": [
    "movies = pd.read_csv('data/movie.csv', index_col='movie_title')\n",
    "ids = movies.index.tolist()\n",
    "columns = movies.columns.tolist()"
   ]
  },
  {
   "cell_type": "code",
   "execution_count": 208,
   "metadata": {},
   "outputs": [
    {
     "data": {
      "text/plain": [
       "['Avatar',\n",
       " \"Pirates of the Caribbean: At World's End\",\n",
       " 'Spectre',\n",
       " 'The Dark Knight Rises',\n",
       " 'Star Wars: Episode VII - The Force Awakens',\n",
       " 'John Carter']"
      ]
     },
     "execution_count": 208,
     "metadata": {},
     "output_type": "execute_result"
    }
   ],
   "source": [
    "ids[0:6]"
   ]
  },
  {
   "cell_type": "markdown",
   "metadata": {},
   "source": [
    "# rename the row and column labels with list assignments"
   ]
  },
  {
   "cell_type": "code",
   "execution_count": 209,
   "metadata": {
    "lines_to_next_cell": 2
   },
   "outputs": [],
   "source": [
    "ids[0] = 'Ratava'\n",
    "ids[1] = 'POC'\n",
    "ids[2] = 'Ertceps'\n",
    "columns[1] = 'director'\n",
    "columns[-2] = 'aspect'\n",
    "columns[-1] = 'fblikes'\n",
    "movies.index = ids\n",
    "movies.columns = columns"
   ]
  },
  {
   "cell_type": "code",
   "execution_count": 211,
   "metadata": {},
   "outputs": [
    {
     "data": {
      "text/html": [
       "<div>\n",
       "<style scoped>\n",
       "    .dataframe tbody tr th:only-of-type {\n",
       "        vertical-align: middle;\n",
       "    }\n",
       "\n",
       "    .dataframe tbody tr th {\n",
       "        vertical-align: top;\n",
       "    }\n",
       "\n",
       "    .dataframe thead th {\n",
       "        text-align: right;\n",
       "    }\n",
       "</style>\n",
       "<table border=\"1\" class=\"dataframe\">\n",
       "  <thead>\n",
       "    <tr style=\"text-align: right;\">\n",
       "      <th></th>\n",
       "      <th>color</th>\n",
       "      <th>director</th>\n",
       "      <th>...</th>\n",
       "      <th>aspect</th>\n",
       "      <th>fblikes</th>\n",
       "    </tr>\n",
       "  </thead>\n",
       "  <tbody>\n",
       "    <tr>\n",
       "      <th>Ratava</th>\n",
       "      <td>Color</td>\n",
       "      <td>James Cameron</td>\n",
       "      <td>...</td>\n",
       "      <td>1.78</td>\n",
       "      <td>33000</td>\n",
       "    </tr>\n",
       "    <tr>\n",
       "      <th>POC</th>\n",
       "      <td>Color</td>\n",
       "      <td>Gore Verbinski</td>\n",
       "      <td>...</td>\n",
       "      <td>2.35</td>\n",
       "      <td>0</td>\n",
       "    </tr>\n",
       "    <tr>\n",
       "      <th>Ertceps</th>\n",
       "      <td>Color</td>\n",
       "      <td>Sam Mendes</td>\n",
       "      <td>...</td>\n",
       "      <td>2.35</td>\n",
       "      <td>85000</td>\n",
       "    </tr>\n",
       "    <tr>\n",
       "      <th>The Dark Knight Rises</th>\n",
       "      <td>Color</td>\n",
       "      <td>Christopher Nolan</td>\n",
       "      <td>...</td>\n",
       "      <td>2.35</td>\n",
       "      <td>164000</td>\n",
       "    </tr>\n",
       "    <tr>\n",
       "      <th>Star Wars: Episode VII - The Force Awakens</th>\n",
       "      <td>NaN</td>\n",
       "      <td>Doug Walker</td>\n",
       "      <td>...</td>\n",
       "      <td>NaN</td>\n",
       "      <td>0</td>\n",
       "    </tr>\n",
       "  </tbody>\n",
       "</table>\n",
       "<p>5 rows × 27 columns</p>\n",
       "</div>"
      ],
      "text/plain": [
       "                                            color           director  ...  \\\n",
       "Ratava                                      Color      James Cameron  ...   \n",
       "POC                                         Color     Gore Verbinski  ...   \n",
       "Ertceps                                     Color         Sam Mendes  ...   \n",
       "The Dark Knight Rises                       Color  Christopher Nolan  ...   \n",
       "Star Wars: Episode VII - The Force Awakens    NaN        Doug Walker  ...   \n",
       "\n",
       "                                            aspect  fblikes  \n",
       "Ratava                                        1.78    33000  \n",
       "POC                                           2.35        0  \n",
       "Ertceps                                       2.35    85000  \n",
       "The Dark Knight Rises                         2.35   164000  \n",
       "Star Wars: Episode VII - The Force Awakens     NaN        0  \n",
       "\n",
       "[5 rows x 27 columns]"
      ]
     },
     "execution_count": 211,
     "metadata": {},
     "output_type": "execute_result"
    }
   ],
   "source": [
    "movies.head(5)"
   ]
  },
  {
   "cell_type": "code",
   "execution_count": 212,
   "metadata": {},
   "outputs": [],
   "source": [
    "def to_clean(val):\n",
    "    return val.strip().lower().replace(' ', '_')"
   ]
  },
  {
   "cell_type": "code",
   "execution_count": 213,
   "metadata": {
    "lines_to_next_cell": 2
   },
   "outputs": [
    {
     "data": {
      "text/html": [
       "<div>\n",
       "<style scoped>\n",
       "    .dataframe tbody tr th:only-of-type {\n",
       "        vertical-align: middle;\n",
       "    }\n",
       "\n",
       "    .dataframe tbody tr th {\n",
       "        vertical-align: top;\n",
       "    }\n",
       "\n",
       "    .dataframe thead th {\n",
       "        text-align: right;\n",
       "    }\n",
       "</style>\n",
       "<table border=\"1\" class=\"dataframe\">\n",
       "  <thead>\n",
       "    <tr style=\"text-align: right;\">\n",
       "      <th></th>\n",
       "      <th>color</th>\n",
       "      <th>director</th>\n",
       "      <th>...</th>\n",
       "      <th>aspect</th>\n",
       "      <th>fblikes</th>\n",
       "    </tr>\n",
       "  </thead>\n",
       "  <tbody>\n",
       "    <tr>\n",
       "      <th>Ratava</th>\n",
       "      <td>Color</td>\n",
       "      <td>James Cameron</td>\n",
       "      <td>...</td>\n",
       "      <td>1.78</td>\n",
       "      <td>33000</td>\n",
       "    </tr>\n",
       "    <tr>\n",
       "      <th>POC</th>\n",
       "      <td>Color</td>\n",
       "      <td>Gore Verbinski</td>\n",
       "      <td>...</td>\n",
       "      <td>2.35</td>\n",
       "      <td>0</td>\n",
       "    </tr>\n",
       "    <tr>\n",
       "      <th>Ertceps</th>\n",
       "      <td>Color</td>\n",
       "      <td>Sam Mendes</td>\n",
       "      <td>...</td>\n",
       "      <td>2.35</td>\n",
       "      <td>85000</td>\n",
       "    </tr>\n",
       "  </tbody>\n",
       "</table>\n",
       "<p>3 rows × 27 columns</p>\n",
       "</div>"
      ],
      "text/plain": [
       "         color        director  ...  aspect  fblikes\n",
       "Ratava   Color   James Cameron  ...    1.78    33000\n",
       "POC      Color  Gore Verbinski  ...    2.35        0\n",
       "Ertceps  Color      Sam Mendes  ...    2.35    85000\n",
       "\n",
       "[3 rows x 27 columns]"
      ]
     },
     "execution_count": 213,
     "metadata": {},
     "output_type": "execute_result"
    }
   ],
   "source": [
    "movies.rename(columns=to_clean).head(3)"
   ]
  },
  {
   "cell_type": "code",
   "execution_count": 214,
   "metadata": {
    "lines_to_next_cell": 2
   },
   "outputs": [
    {
     "data": {
      "text/html": [
       "<div>\n",
       "<style scoped>\n",
       "    .dataframe tbody tr th:only-of-type {\n",
       "        vertical-align: middle;\n",
       "    }\n",
       "\n",
       "    .dataframe tbody tr th {\n",
       "        vertical-align: top;\n",
       "    }\n",
       "\n",
       "    .dataframe thead th {\n",
       "        text-align: right;\n",
       "    }\n",
       "</style>\n",
       "<table border=\"1\" class=\"dataframe\">\n",
       "  <thead>\n",
       "    <tr style=\"text-align: right;\">\n",
       "      <th></th>\n",
       "      <th>color</th>\n",
       "      <th>director</th>\n",
       "      <th>...</th>\n",
       "      <th>aspect</th>\n",
       "      <th>fblikes</th>\n",
       "    </tr>\n",
       "  </thead>\n",
       "  <tbody>\n",
       "    <tr>\n",
       "      <th>Ratava</th>\n",
       "      <td>Color</td>\n",
       "      <td>James Cameron</td>\n",
       "      <td>...</td>\n",
       "      <td>1.78</td>\n",
       "      <td>33000</td>\n",
       "    </tr>\n",
       "    <tr>\n",
       "      <th>POC</th>\n",
       "      <td>Color</td>\n",
       "      <td>Gore Verbinski</td>\n",
       "      <td>...</td>\n",
       "      <td>2.35</td>\n",
       "      <td>0</td>\n",
       "    </tr>\n",
       "    <tr>\n",
       "      <th>Ertceps</th>\n",
       "      <td>Color</td>\n",
       "      <td>Sam Mendes</td>\n",
       "      <td>...</td>\n",
       "      <td>2.35</td>\n",
       "      <td>85000</td>\n",
       "    </tr>\n",
       "  </tbody>\n",
       "</table>\n",
       "<p>3 rows × 27 columns</p>\n",
       "</div>"
      ],
      "text/plain": [
       "         color        director  ...  aspect  fblikes\n",
       "Ratava   Color   James Cameron  ...    1.78    33000\n",
       "POC      Color  Gore Verbinski  ...    2.35        0\n",
       "Ertceps  Color      Sam Mendes  ...    2.35    85000\n",
       "\n",
       "[3 rows x 27 columns]"
      ]
     },
     "execution_count": 214,
     "metadata": {},
     "output_type": "execute_result"
    }
   ],
   "source": [
    "cols = [col.strip().lower().replace(' ', '_')\n",
    "        for col in movies.columns]\n",
    "movies.columns = cols\n",
    "movies.head(3)"
   ]
  },
  {
   "cell_type": "markdown",
   "metadata": {},
   "source": [
    "## Creating and Deleting columns"
   ]
  },
  {
   "cell_type": "markdown",
   "metadata": {},
   "source": [
    "### How to do it... {#how-to-do-it-9}"
   ]
  },
  {
   "cell_type": "code",
   "execution_count": 219,
   "metadata": {
    "lines_to_next_cell": 2
   },
   "outputs": [],
   "source": [
    "movies = pd.read_csv('data/movie.csv')\n",
    "movies['has_seen'] = 1"
   ]
  },
  {
   "cell_type": "code",
   "execution_count": 220,
   "metadata": {
    "lines_to_next_cell": 2
   },
   "outputs": [
    {
     "data": {
      "text/html": [
       "<div>\n",
       "<style scoped>\n",
       "    .dataframe tbody tr th:only-of-type {\n",
       "        vertical-align: middle;\n",
       "    }\n",
       "\n",
       "    .dataframe tbody tr th {\n",
       "        vertical-align: top;\n",
       "    }\n",
       "\n",
       "    .dataframe thead th {\n",
       "        text-align: right;\n",
       "    }\n",
       "</style>\n",
       "<table border=\"1\" class=\"dataframe\">\n",
       "  <thead>\n",
       "    <tr style=\"text-align: right;\">\n",
       "      <th></th>\n",
       "      <th>color</th>\n",
       "      <th>director_name</th>\n",
       "      <th>...</th>\n",
       "      <th>fblikes</th>\n",
       "      <th>has_seen</th>\n",
       "    </tr>\n",
       "  </thead>\n",
       "  <tbody>\n",
       "    <tr>\n",
       "      <th>0</th>\n",
       "      <td>Color</td>\n",
       "      <td>James Cameron</td>\n",
       "      <td>...</td>\n",
       "      <td>33000</td>\n",
       "      <td>0</td>\n",
       "    </tr>\n",
       "    <tr>\n",
       "      <th>1</th>\n",
       "      <td>Color</td>\n",
       "      <td>Gore Verbinski</td>\n",
       "      <td>...</td>\n",
       "      <td>0</td>\n",
       "      <td>0</td>\n",
       "    </tr>\n",
       "    <tr>\n",
       "      <th>2</th>\n",
       "      <td>Color</td>\n",
       "      <td>Sam Mendes</td>\n",
       "      <td>...</td>\n",
       "      <td>85000</td>\n",
       "      <td>0</td>\n",
       "    </tr>\n",
       "    <tr>\n",
       "      <th>3</th>\n",
       "      <td>Color</td>\n",
       "      <td>Christopher Nolan</td>\n",
       "      <td>...</td>\n",
       "      <td>164000</td>\n",
       "      <td>0</td>\n",
       "    </tr>\n",
       "    <tr>\n",
       "      <th>4</th>\n",
       "      <td>NaN</td>\n",
       "      <td>Doug Walker</td>\n",
       "      <td>...</td>\n",
       "      <td>0</td>\n",
       "      <td>0</td>\n",
       "    </tr>\n",
       "    <tr>\n",
       "      <th>...</th>\n",
       "      <td>...</td>\n",
       "      <td>...</td>\n",
       "      <td>...</td>\n",
       "      <td>...</td>\n",
       "      <td>...</td>\n",
       "    </tr>\n",
       "    <tr>\n",
       "      <th>4911</th>\n",
       "      <td>Color</td>\n",
       "      <td>Scott Smith</td>\n",
       "      <td>...</td>\n",
       "      <td>84</td>\n",
       "      <td>0</td>\n",
       "    </tr>\n",
       "    <tr>\n",
       "      <th>4912</th>\n",
       "      <td>Color</td>\n",
       "      <td>NaN</td>\n",
       "      <td>...</td>\n",
       "      <td>32000</td>\n",
       "      <td>0</td>\n",
       "    </tr>\n",
       "    <tr>\n",
       "      <th>4913</th>\n",
       "      <td>Color</td>\n",
       "      <td>Benjamin Roberds</td>\n",
       "      <td>...</td>\n",
       "      <td>16</td>\n",
       "      <td>0</td>\n",
       "    </tr>\n",
       "    <tr>\n",
       "      <th>4914</th>\n",
       "      <td>Color</td>\n",
       "      <td>Daniel Hsia</td>\n",
       "      <td>...</td>\n",
       "      <td>660</td>\n",
       "      <td>0</td>\n",
       "    </tr>\n",
       "    <tr>\n",
       "      <th>4915</th>\n",
       "      <td>Color</td>\n",
       "      <td>Jon Gunn</td>\n",
       "      <td>...</td>\n",
       "      <td>456</td>\n",
       "      <td>0</td>\n",
       "    </tr>\n",
       "  </tbody>\n",
       "</table>\n",
       "<p>4916 rows × 29 columns</p>\n",
       "</div>"
      ],
      "text/plain": [
       "      color      director_name  ...  fblikes  has_seen\n",
       "0     Color      James Cameron  ...    33000         0\n",
       "1     Color     Gore Verbinski  ...        0         0\n",
       "2     Color         Sam Mendes  ...    85000         0\n",
       "3     Color  Christopher Nolan  ...   164000         0\n",
       "4       NaN        Doug Walker  ...        0         0\n",
       "...     ...                ...  ...      ...       ...\n",
       "4911  Color        Scott Smith  ...       84         0\n",
       "4912  Color                NaN  ...    32000         0\n",
       "4913  Color   Benjamin Roberds  ...       16         0\n",
       "4914  Color        Daniel Hsia  ...      660         0\n",
       "4915  Color           Jon Gunn  ...      456         0\n",
       "\n",
       "[4916 rows x 29 columns]"
      ]
     },
     "execution_count": 220,
     "metadata": {},
     "output_type": "execute_result"
    }
   ],
   "source": [
    "idx_map = {'Avatar':'Ratava', 'Spectre': 'Ertceps',\n",
    "  \"Pirates of the Caribbean: At World's End\": 'POC'}\n",
    "col_map = {'aspect_ratio': 'aspect',\n",
    "  \"movie_facebook_likes\": 'fblikes'}\n",
    "(movies\n",
    "   .rename(index=idx_map, columns=col_map)\n",
    "   .assign(has_seen=0)\n",
    ")"
   ]
  },
  {
   "cell_type": "code",
   "execution_count": 221,
   "metadata": {},
   "outputs": [
    {
     "data": {
      "text/html": [
       "<div>\n",
       "<style scoped>\n",
       "    .dataframe tbody tr th:only-of-type {\n",
       "        vertical-align: middle;\n",
       "    }\n",
       "\n",
       "    .dataframe tbody tr th {\n",
       "        vertical-align: top;\n",
       "    }\n",
       "\n",
       "    .dataframe thead th {\n",
       "        text-align: right;\n",
       "    }\n",
       "</style>\n",
       "<table border=\"1\" class=\"dataframe\">\n",
       "  <thead>\n",
       "    <tr style=\"text-align: right;\">\n",
       "      <th></th>\n",
       "      <th>color</th>\n",
       "      <th>director_name</th>\n",
       "      <th>...</th>\n",
       "      <th>movie_facebook_likes</th>\n",
       "      <th>has_seen</th>\n",
       "    </tr>\n",
       "  </thead>\n",
       "  <tbody>\n",
       "    <tr>\n",
       "      <th>0</th>\n",
       "      <td>Color</td>\n",
       "      <td>James Cameron</td>\n",
       "      <td>...</td>\n",
       "      <td>33000</td>\n",
       "      <td>1</td>\n",
       "    </tr>\n",
       "    <tr>\n",
       "      <th>1</th>\n",
       "      <td>Color</td>\n",
       "      <td>Gore Verbinski</td>\n",
       "      <td>...</td>\n",
       "      <td>0</td>\n",
       "      <td>1</td>\n",
       "    </tr>\n",
       "    <tr>\n",
       "      <th>2</th>\n",
       "      <td>Color</td>\n",
       "      <td>Sam Mendes</td>\n",
       "      <td>...</td>\n",
       "      <td>85000</td>\n",
       "      <td>1</td>\n",
       "    </tr>\n",
       "    <tr>\n",
       "      <th>3</th>\n",
       "      <td>Color</td>\n",
       "      <td>Christopher Nolan</td>\n",
       "      <td>...</td>\n",
       "      <td>164000</td>\n",
       "      <td>1</td>\n",
       "    </tr>\n",
       "    <tr>\n",
       "      <th>4</th>\n",
       "      <td>NaN</td>\n",
       "      <td>Doug Walker</td>\n",
       "      <td>...</td>\n",
       "      <td>0</td>\n",
       "      <td>1</td>\n",
       "    </tr>\n",
       "  </tbody>\n",
       "</table>\n",
       "<p>5 rows × 29 columns</p>\n",
       "</div>"
      ],
      "text/plain": [
       "   color      director_name  ...  movie_facebook_likes  has_seen\n",
       "0  Color      James Cameron  ...                 33000         1\n",
       "1  Color     Gore Verbinski  ...                     0         1\n",
       "2  Color         Sam Mendes  ...                 85000         1\n",
       "3  Color  Christopher Nolan  ...                164000         1\n",
       "4    NaN        Doug Walker  ...                     0         1\n",
       "\n",
       "[5 rows x 29 columns]"
      ]
     },
     "execution_count": 221,
     "metadata": {},
     "output_type": "execute_result"
    }
   ],
   "source": [
    "movies.head()"
   ]
  },
  {
   "cell_type": "code",
   "execution_count": 222,
   "metadata": {
    "lines_to_next_cell": 2
   },
   "outputs": [],
   "source": [
    "total = (movies['actor_1_facebook_likes'] +\n",
    "         movies['actor_2_facebook_likes'] + \n",
    "         movies['actor_3_facebook_likes'] + \n",
    "         movies['director_facebook_likes'])"
   ]
  },
  {
   "cell_type": "code",
   "execution_count": 223,
   "metadata": {
    "lines_to_next_cell": 2
   },
   "outputs": [
    {
     "data": {
      "text/plain": [
       "0     2791.0\n",
       "1    46563.0\n",
       "2    11554.0\n",
       "3    95000.0\n",
       "4        NaN\n",
       "dtype: float64"
      ]
     },
     "execution_count": 223,
     "metadata": {},
     "output_type": "execute_result"
    }
   ],
   "source": [
    "total.head(5)"
   ]
  },
  {
   "cell_type": "code",
   "execution_count": 224,
   "metadata": {
    "lines_to_next_cell": 2
   },
   "outputs": [
    {
     "data": {
      "text/plain": [
       "0     2791.0\n",
       "1    46563.0\n",
       "2    11554.0\n",
       "3    95000.0\n",
       "4      274.0\n",
       "dtype: float64"
      ]
     },
     "execution_count": 224,
     "metadata": {},
     "output_type": "execute_result"
    }
   ],
   "source": [
    "cols = ['actor_1_facebook_likes','actor_2_facebook_likes',\n",
    "    'actor_3_facebook_likes','director_facebook_likes']\n",
    "sum_col = movies[cols].sum(axis='columns')\n",
    "sum_col.head(5)"
   ]
  },
  {
   "cell_type": "code",
   "execution_count": 225,
   "metadata": {},
   "outputs": [
    {
     "data": {
      "text/html": [
       "<div>\n",
       "<style scoped>\n",
       "    .dataframe tbody tr th:only-of-type {\n",
       "        vertical-align: middle;\n",
       "    }\n",
       "\n",
       "    .dataframe tbody tr th {\n",
       "        vertical-align: top;\n",
       "    }\n",
       "\n",
       "    .dataframe thead th {\n",
       "        text-align: right;\n",
       "    }\n",
       "</style>\n",
       "<table border=\"1\" class=\"dataframe\">\n",
       "  <thead>\n",
       "    <tr style=\"text-align: right;\">\n",
       "      <th></th>\n",
       "      <th>color</th>\n",
       "      <th>director_name</th>\n",
       "      <th>...</th>\n",
       "      <th>has_seen</th>\n",
       "      <th>total_likes</th>\n",
       "    </tr>\n",
       "  </thead>\n",
       "  <tbody>\n",
       "    <tr>\n",
       "      <th>0</th>\n",
       "      <td>Color</td>\n",
       "      <td>James Cameron</td>\n",
       "      <td>...</td>\n",
       "      <td>1</td>\n",
       "      <td>2791.0</td>\n",
       "    </tr>\n",
       "    <tr>\n",
       "      <th>1</th>\n",
       "      <td>Color</td>\n",
       "      <td>Gore Verbinski</td>\n",
       "      <td>...</td>\n",
       "      <td>1</td>\n",
       "      <td>46563.0</td>\n",
       "    </tr>\n",
       "    <tr>\n",
       "      <th>2</th>\n",
       "      <td>Color</td>\n",
       "      <td>Sam Mendes</td>\n",
       "      <td>...</td>\n",
       "      <td>1</td>\n",
       "      <td>11554.0</td>\n",
       "    </tr>\n",
       "    <tr>\n",
       "      <th>3</th>\n",
       "      <td>Color</td>\n",
       "      <td>Christopher Nolan</td>\n",
       "      <td>...</td>\n",
       "      <td>1</td>\n",
       "      <td>95000.0</td>\n",
       "    </tr>\n",
       "    <tr>\n",
       "      <th>4</th>\n",
       "      <td>NaN</td>\n",
       "      <td>Doug Walker</td>\n",
       "      <td>...</td>\n",
       "      <td>1</td>\n",
       "      <td>274.0</td>\n",
       "    </tr>\n",
       "  </tbody>\n",
       "</table>\n",
       "<p>5 rows × 30 columns</p>\n",
       "</div>"
      ],
      "text/plain": [
       "   color      director_name  ...  has_seen  total_likes\n",
       "0  Color      James Cameron  ...         1       2791.0\n",
       "1  Color     Gore Verbinski  ...         1      46563.0\n",
       "2  Color         Sam Mendes  ...         1      11554.0\n",
       "3  Color  Christopher Nolan  ...         1      95000.0\n",
       "4    NaN        Doug Walker  ...         1        274.0\n",
       "\n",
       "[5 rows x 30 columns]"
      ]
     },
     "execution_count": 225,
     "metadata": {},
     "output_type": "execute_result"
    }
   ],
   "source": [
    "movies.assign(total_likes=sum_col).head(5)"
   ]
  },
  {
   "cell_type": "code",
   "execution_count": 226,
   "metadata": {},
   "outputs": [
    {
     "data": {
      "text/html": [
       "<div>\n",
       "<style scoped>\n",
       "    .dataframe tbody tr th:only-of-type {\n",
       "        vertical-align: middle;\n",
       "    }\n",
       "\n",
       "    .dataframe tbody tr th {\n",
       "        vertical-align: top;\n",
       "    }\n",
       "\n",
       "    .dataframe thead th {\n",
       "        text-align: right;\n",
       "    }\n",
       "</style>\n",
       "<table border=\"1\" class=\"dataframe\">\n",
       "  <thead>\n",
       "    <tr style=\"text-align: right;\">\n",
       "      <th></th>\n",
       "      <th>color</th>\n",
       "      <th>director_name</th>\n",
       "      <th>...</th>\n",
       "      <th>movie_facebook_likes</th>\n",
       "      <th>has_seen</th>\n",
       "    </tr>\n",
       "  </thead>\n",
       "  <tbody>\n",
       "    <tr>\n",
       "      <th>0</th>\n",
       "      <td>Color</td>\n",
       "      <td>James Cameron</td>\n",
       "      <td>...</td>\n",
       "      <td>33000</td>\n",
       "      <td>1</td>\n",
       "    </tr>\n",
       "    <tr>\n",
       "      <th>1</th>\n",
       "      <td>Color</td>\n",
       "      <td>Gore Verbinski</td>\n",
       "      <td>...</td>\n",
       "      <td>0</td>\n",
       "      <td>1</td>\n",
       "    </tr>\n",
       "    <tr>\n",
       "      <th>2</th>\n",
       "      <td>Color</td>\n",
       "      <td>Sam Mendes</td>\n",
       "      <td>...</td>\n",
       "      <td>85000</td>\n",
       "      <td>1</td>\n",
       "    </tr>\n",
       "    <tr>\n",
       "      <th>3</th>\n",
       "      <td>Color</td>\n",
       "      <td>Christopher Nolan</td>\n",
       "      <td>...</td>\n",
       "      <td>164000</td>\n",
       "      <td>1</td>\n",
       "    </tr>\n",
       "    <tr>\n",
       "      <th>4</th>\n",
       "      <td>NaN</td>\n",
       "      <td>Doug Walker</td>\n",
       "      <td>...</td>\n",
       "      <td>0</td>\n",
       "      <td>1</td>\n",
       "    </tr>\n",
       "  </tbody>\n",
       "</table>\n",
       "<p>5 rows × 29 columns</p>\n",
       "</div>"
      ],
      "text/plain": [
       "   color      director_name  ...  movie_facebook_likes  has_seen\n",
       "0  Color      James Cameron  ...                 33000         1\n",
       "1  Color     Gore Verbinski  ...                     0         1\n",
       "2  Color         Sam Mendes  ...                 85000         1\n",
       "3  Color  Christopher Nolan  ...                164000         1\n",
       "4    NaN        Doug Walker  ...                     0         1\n",
       "\n",
       "[5 rows x 29 columns]"
      ]
     },
     "execution_count": 226,
     "metadata": {},
     "output_type": "execute_result"
    }
   ],
   "source": [
    "movies.head(5)"
   ]
  },
  {
   "cell_type": "code",
   "execution_count": 227,
   "metadata": {},
   "outputs": [
    {
     "data": {
      "text/html": [
       "<div>\n",
       "<style scoped>\n",
       "    .dataframe tbody tr th:only-of-type {\n",
       "        vertical-align: middle;\n",
       "    }\n",
       "\n",
       "    .dataframe tbody tr th {\n",
       "        vertical-align: top;\n",
       "    }\n",
       "\n",
       "    .dataframe thead th {\n",
       "        text-align: right;\n",
       "    }\n",
       "</style>\n",
       "<table border=\"1\" class=\"dataframe\">\n",
       "  <thead>\n",
       "    <tr style=\"text-align: right;\">\n",
       "      <th></th>\n",
       "      <th>color</th>\n",
       "      <th>director_name</th>\n",
       "      <th>...</th>\n",
       "      <th>has_seen</th>\n",
       "      <th>total_likes</th>\n",
       "    </tr>\n",
       "  </thead>\n",
       "  <tbody>\n",
       "    <tr>\n",
       "      <th>0</th>\n",
       "      <td>Color</td>\n",
       "      <td>James Cameron</td>\n",
       "      <td>...</td>\n",
       "      <td>1</td>\n",
       "      <td>2791.0</td>\n",
       "    </tr>\n",
       "    <tr>\n",
       "      <th>1</th>\n",
       "      <td>Color</td>\n",
       "      <td>Gore Verbinski</td>\n",
       "      <td>...</td>\n",
       "      <td>1</td>\n",
       "      <td>46563.0</td>\n",
       "    </tr>\n",
       "    <tr>\n",
       "      <th>2</th>\n",
       "      <td>Color</td>\n",
       "      <td>Sam Mendes</td>\n",
       "      <td>...</td>\n",
       "      <td>1</td>\n",
       "      <td>11554.0</td>\n",
       "    </tr>\n",
       "    <tr>\n",
       "      <th>3</th>\n",
       "      <td>Color</td>\n",
       "      <td>Christopher Nolan</td>\n",
       "      <td>...</td>\n",
       "      <td>1</td>\n",
       "      <td>95000.0</td>\n",
       "    </tr>\n",
       "    <tr>\n",
       "      <th>4</th>\n",
       "      <td>NaN</td>\n",
       "      <td>Doug Walker</td>\n",
       "      <td>...</td>\n",
       "      <td>1</td>\n",
       "      <td>274.0</td>\n",
       "    </tr>\n",
       "  </tbody>\n",
       "</table>\n",
       "<p>5 rows × 30 columns</p>\n",
       "</div>"
      ],
      "text/plain": [
       "   color      director_name  ...  has_seen  total_likes\n",
       "0  Color      James Cameron  ...         1       2791.0\n",
       "1  Color     Gore Verbinski  ...         1      46563.0\n",
       "2  Color         Sam Mendes  ...         1      11554.0\n",
       "3  Color  Christopher Nolan  ...         1      95000.0\n",
       "4    NaN        Doug Walker  ...         1        274.0\n",
       "\n",
       "[5 rows x 30 columns]"
      ]
     },
     "execution_count": 227,
     "metadata": {},
     "output_type": "execute_result"
    }
   ],
   "source": [
    "movies.assign(total_likes = movies[cols].sum(axis='columns')).head(5)"
   ]
  },
  {
   "cell_type": "code",
   "execution_count": 228,
   "metadata": {},
   "outputs": [],
   "source": [
    "def sum_likes(df):\n",
    "   return df[[c for c in df.columns\n",
    "              if 'like' in c]].sum(axis=1)"
   ]
  },
  {
   "cell_type": "code",
   "execution_count": 229,
   "metadata": {
    "lines_to_next_cell": 2
   },
   "outputs": [
    {
     "data": {
      "text/html": [
       "<div>\n",
       "<style scoped>\n",
       "    .dataframe tbody tr th:only-of-type {\n",
       "        vertical-align: middle;\n",
       "    }\n",
       "\n",
       "    .dataframe tbody tr th {\n",
       "        vertical-align: top;\n",
       "    }\n",
       "\n",
       "    .dataframe thead th {\n",
       "        text-align: right;\n",
       "    }\n",
       "</style>\n",
       "<table border=\"1\" class=\"dataframe\">\n",
       "  <thead>\n",
       "    <tr style=\"text-align: right;\">\n",
       "      <th></th>\n",
       "      <th>color</th>\n",
       "      <th>director_name</th>\n",
       "      <th>...</th>\n",
       "      <th>has_seen</th>\n",
       "      <th>total_likes</th>\n",
       "    </tr>\n",
       "  </thead>\n",
       "  <tbody>\n",
       "    <tr>\n",
       "      <th>0</th>\n",
       "      <td>Color</td>\n",
       "      <td>James Cameron</td>\n",
       "      <td>...</td>\n",
       "      <td>1</td>\n",
       "      <td>40625.0</td>\n",
       "    </tr>\n",
       "    <tr>\n",
       "      <th>1</th>\n",
       "      <td>Color</td>\n",
       "      <td>Gore Verbinski</td>\n",
       "      <td>...</td>\n",
       "      <td>1</td>\n",
       "      <td>94913.0</td>\n",
       "    </tr>\n",
       "    <tr>\n",
       "      <th>2</th>\n",
       "      <td>Color</td>\n",
       "      <td>Sam Mendes</td>\n",
       "      <td>...</td>\n",
       "      <td>1</td>\n",
       "      <td>108254.0</td>\n",
       "    </tr>\n",
       "    <tr>\n",
       "      <th>3</th>\n",
       "      <td>Color</td>\n",
       "      <td>Christopher Nolan</td>\n",
       "      <td>...</td>\n",
       "      <td>1</td>\n",
       "      <td>365759.0</td>\n",
       "    </tr>\n",
       "    <tr>\n",
       "      <th>4</th>\n",
       "      <td>NaN</td>\n",
       "      <td>Doug Walker</td>\n",
       "      <td>...</td>\n",
       "      <td>1</td>\n",
       "      <td>417.0</td>\n",
       "    </tr>\n",
       "  </tbody>\n",
       "</table>\n",
       "<p>5 rows × 30 columns</p>\n",
       "</div>"
      ],
      "text/plain": [
       "   color      director_name  ...  has_seen  total_likes\n",
       "0  Color      James Cameron  ...         1      40625.0\n",
       "1  Color     Gore Verbinski  ...         1      94913.0\n",
       "2  Color         Sam Mendes  ...         1     108254.0\n",
       "3  Color  Christopher Nolan  ...         1     365759.0\n",
       "4    NaN        Doug Walker  ...         1        417.0\n",
       "\n",
       "[5 rows x 30 columns]"
      ]
     },
     "execution_count": 229,
     "metadata": {},
     "output_type": "execute_result"
    }
   ],
   "source": [
    "movies.assign(total_likes=sum_likes).head(5)"
   ]
  },
  {
   "cell_type": "code",
   "execution_count": 230,
   "metadata": {
    "lines_to_next_cell": 2
   },
   "outputs": [
    {
     "data": {
      "text/plain": [
       "0"
      ]
     },
     "execution_count": 230,
     "metadata": {},
     "output_type": "execute_result"
    }
   ],
   "source": [
    "(movies\n",
    "   .assign(total_likes=sum_col)\n",
    "   ['total_likes']\n",
    "   .isna()\n",
    "   .sum()\n",
    ")"
   ]
  },
  {
   "cell_type": "code",
   "execution_count": 231,
   "metadata": {
    "lines_to_next_cell": 2
   },
   "outputs": [
    {
     "data": {
      "text/plain": [
       "122"
      ]
     },
     "execution_count": 231,
     "metadata": {},
     "output_type": "execute_result"
    }
   ],
   "source": [
    "(movies\n",
    "   .assign(total_likes=total)\n",
    "   ['total_likes']\n",
    "   .isna()\n",
    "   .sum()\n",
    ")"
   ]
  },
  {
   "cell_type": "code",
   "execution_count": 232,
   "metadata": {},
   "outputs": [
    {
     "data": {
      "text/plain": [
       "0"
      ]
     },
     "execution_count": 232,
     "metadata": {},
     "output_type": "execute_result"
    }
   ],
   "source": [
    "(movies\n",
    "   .assign(total_likes=total.fillna(0))\n",
    "   ['total_likes']\n",
    "   .isna()\n",
    "   .sum()\n",
    ")"
   ]
  },
  {
   "cell_type": "code",
   "execution_count": 233,
   "metadata": {},
   "outputs": [],
   "source": [
    "def cast_like_gt_actor_director(df):\n",
    "    return df['cast_total_facebook_likes'] >= \\\n",
    "           df['total_likes']"
   ]
  },
  {
   "cell_type": "code",
   "execution_count": 234,
   "metadata": {
    "lines_to_next_cell": 2
   },
   "outputs": [],
   "source": [
    "df2 = (movies\n",
    "   .assign(total_likes=total,\n",
    "           is_cast_likes_more = cast_like_gt_actor_director)\n",
    ")"
   ]
  },
  {
   "cell_type": "code",
   "execution_count": 235,
   "metadata": {
    "lines_to_next_cell": 2
   },
   "outputs": [
    {
     "data": {
      "text/plain": [
       "False"
      ]
     },
     "execution_count": 235,
     "metadata": {},
     "output_type": "execute_result"
    }
   ],
   "source": [
    "df2['is_cast_likes_more'].all()"
   ]
  },
  {
   "cell_type": "code",
   "execution_count": 236,
   "metadata": {
    "lines_to_next_cell": 2
   },
   "outputs": [],
   "source": [
    "df2 = df2.drop(columns='total_likes')"
   ]
  },
  {
   "cell_type": "code",
   "execution_count": 238,
   "metadata": {
    "lines_to_next_cell": 2
   },
   "outputs": [],
   "source": [
    "actor_sum = (movies\n",
    "   [[c for c in movies.columns if 'actor_' in c and '_likes' in c]]\n",
    "   .sum(axis='columns')\n",
    ")"
   ]
  },
  {
   "cell_type": "code",
   "execution_count": 239,
   "metadata": {
    "lines_to_next_cell": 2
   },
   "outputs": [
    {
     "data": {
      "text/plain": [
       "0     2791.0\n",
       "1    46000.0\n",
       "2    11554.0\n",
       "3    73000.0\n",
       "4      143.0\n",
       "dtype: float64"
      ]
     },
     "execution_count": 239,
     "metadata": {},
     "output_type": "execute_result"
    }
   ],
   "source": [
    "actor_sum.head(5)"
   ]
  },
  {
   "cell_type": "code",
   "execution_count": 240,
   "metadata": {
    "lines_to_next_cell": 2
   },
   "outputs": [
    {
     "data": {
      "text/plain": [
       "0       True\n",
       "1       True\n",
       "2       True\n",
       "3       True\n",
       "4       True\n",
       "        ... \n",
       "4911    True\n",
       "4912    True\n",
       "4913    True\n",
       "4914    True\n",
       "4915    True\n",
       "Length: 4916, dtype: bool"
      ]
     },
     "execution_count": 240,
     "metadata": {},
     "output_type": "execute_result"
    }
   ],
   "source": [
    "movies['cast_total_facebook_likes'] >= actor_sum"
   ]
  },
  {
   "cell_type": "code",
   "execution_count": 241,
   "metadata": {
    "lines_to_next_cell": 2
   },
   "outputs": [
    {
     "data": {
      "text/plain": [
       "0       True\n",
       "1       True\n",
       "2       True\n",
       "3       True\n",
       "4       True\n",
       "        ... \n",
       "4911    True\n",
       "4912    True\n",
       "4913    True\n",
       "4914    True\n",
       "4915    True\n",
       "Length: 4916, dtype: bool"
      ]
     },
     "execution_count": 241,
     "metadata": {},
     "output_type": "execute_result"
    }
   ],
   "source": [
    "movies['cast_total_facebook_likes'].ge(actor_sum)"
   ]
  },
  {
   "cell_type": "code",
   "execution_count": 242,
   "metadata": {
    "lines_to_next_cell": 2
   },
   "outputs": [
    {
     "data": {
      "text/plain": [
       "True"
      ]
     },
     "execution_count": 242,
     "metadata": {},
     "output_type": "execute_result"
    }
   ],
   "source": [
    "movies['cast_total_facebook_likes'].ge(actor_sum).all()"
   ]
  },
  {
   "cell_type": "code",
   "execution_count": 252,
   "metadata": {
    "lines_to_next_cell": 2
   },
   "outputs": [],
   "source": [
    "pct_like = (actor_sum\n",
    "    .div(movies['cast_total_facebook_likes'])\n",
    ").mul(100)"
   ]
  },
  {
   "cell_type": "code",
   "execution_count": 253,
   "metadata": {
    "lines_to_next_cell": 2
   },
   "outputs": [
    {
     "data": {
      "text/plain": [
       "count    4883.000000\n",
       "mean       83.327889\n",
       "std        14.056578\n",
       "min        30.076696\n",
       "25%        73.528368\n",
       "50%        86.928884\n",
       "75%        95.477440\n",
       "max       100.000000\n",
       "dtype: float64"
      ]
     },
     "execution_count": 253,
     "metadata": {},
     "output_type": "execute_result"
    }
   ],
   "source": [
    "pct_like.describe()"
   ]
  },
  {
   "cell_type": "code",
   "execution_count": 254,
   "metadata": {},
   "outputs": [
    {
     "data": {
      "text/plain": [
       "pandas.core.series.Series"
      ]
     },
     "execution_count": 254,
     "metadata": {},
     "output_type": "execute_result"
    }
   ],
   "source": [
    "type(pct_like)"
   ]
  },
  {
   "cell_type": "code",
   "execution_count": 261,
   "metadata": {},
   "outputs": [
    {
     "data": {
      "text/plain": [
       "array([57.73686388, 95.13960703, 98.75213675, ...,         nan,\n",
       "       90.27661358, 76.68711656])"
      ]
     },
     "execution_count": 261,
     "metadata": {},
     "output_type": "execute_result"
    }
   ],
   "source": [
    "pct_like.values"
   ]
  },
  {
   "cell_type": "code",
   "execution_count": 256,
   "metadata": {
    "lines_to_next_cell": 2
   },
   "outputs": [
    {
     "data": {
      "text/plain": [
       "Avatar                                         57.736864\n",
       "Pirates of the Caribbean: At World's End       95.139607\n",
       "Spectre                                        98.752137\n",
       "The Dark Knight Rises                          68.378310\n",
       "Star Wars: Episode VII - The Force Awakens    100.000000\n",
       "dtype: float64"
      ]
     },
     "execution_count": 256,
     "metadata": {},
     "output_type": "execute_result"
    }
   ],
   "source": [
    "pd.Series(pct_like.values,\n",
    "    index=movies['movie_title'].values).head()"
   ]
  },
  {
   "cell_type": "markdown",
   "metadata": {},
   "source": [
    "### How it works... {#how-it-works-9}"
   ]
  },
  {
   "cell_type": "markdown",
   "metadata": {},
   "source": [
    "### There's more... {#theres-more-8}"
   ]
  },
  {
   "cell_type": "code",
   "execution_count": 264,
   "metadata": {
    "lines_to_next_cell": 2
   },
   "outputs": [
    {
     "data": {
      "text/plain": [
       "9"
      ]
     },
     "execution_count": 264,
     "metadata": {},
     "output_type": "execute_result"
    }
   ],
   "source": [
    "profit_index = movies.columns.get_loc('gross') + 1\n",
    "profit_index"
   ]
  },
  {
   "cell_type": "code",
   "execution_count": 265,
   "metadata": {
    "lines_to_next_cell": 2
   },
   "outputs": [],
   "source": [
    "movies.insert(loc=profit_index,\n",
    "              column='profit',\n",
    "              value=movies['gross'] - movies['budget'])"
   ]
  },
  {
   "cell_type": "code",
   "execution_count": 266,
   "metadata": {
    "lines_to_next_cell": 2
   },
   "outputs": [],
   "source": [
    "del movies['director_name']"
   ]
  },
  {
   "cell_type": "markdown",
   "metadata": {
    "lines_to_next_cell": 2
   },
   "source": [
    "### See also"
   ]
  }
 ],
 "metadata": {
  "jupytext": {
   "cell_metadata_filter": "-all",
   "main_language": "python",
   "notebook_metadata_filter": "-all"
  },
  "kernelspec": {
   "display_name": "Python 3",
   "language": "python",
   "name": "python3"
  },
  "language_info": {
   "codemirror_mode": {
    "name": "ipython",
    "version": 3
   },
   "file_extension": ".py",
   "mimetype": "text/x-python",
   "name": "python",
   "nbconvert_exporter": "python",
   "pygments_lexer": "ipython3",
   "version": "3.8.5"
  }
 },
 "nbformat": 4,
 "nbformat_minor": 2
}
